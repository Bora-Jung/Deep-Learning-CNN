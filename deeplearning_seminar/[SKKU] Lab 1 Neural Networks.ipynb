{
 "cells": [
  {
   "cell_type": "markdown",
   "metadata": {},
   "source": [
    "# Preparation"
   ]
  },
  {
   "cell_type": "code",
   "execution_count": 6,
   "metadata": {},
   "outputs": [],
   "source": [
    "## Import basic libraries to handle data \n",
    "from os.path import join\n",
    "import numpy as np\n",
    "import pandas as pd\n",
    "import matplotlib.pyplot as plt\n",
    "%matplotlib inline"
   ]
  },
  {
   "cell_type": "code",
   "execution_count": 7,
   "metadata": {},
   "outputs": [],
   "source": [
    "# ## Data import from local drive\n",
    "# df = pd.read_csv(join('data','iris.csv'), sep=';'))\n",
    "# df.head(5)"
   ]
  },
  {
   "cell_type": "code",
   "execution_count": 8,
   "metadata": {},
   "outputs": [
    {
     "data": {
      "text/html": [
       "<div>\n",
       "<style scoped>\n",
       "    .dataframe tbody tr th:only-of-type {\n",
       "        vertical-align: middle;\n",
       "    }\n",
       "\n",
       "    .dataframe tbody tr th {\n",
       "        vertical-align: top;\n",
       "    }\n",
       "\n",
       "    .dataframe thead th {\n",
       "        text-align: right;\n",
       "    }\n",
       "</style>\n",
       "<table border=\"1\" class=\"dataframe\">\n",
       "  <thead>\n",
       "    <tr style=\"text-align: right;\">\n",
       "      <th></th>\n",
       "      <th>sepal_length</th>\n",
       "      <th>sepal_width</th>\n",
       "      <th>petal_length</th>\n",
       "      <th>petal_width</th>\n",
       "      <th>species</th>\n",
       "    </tr>\n",
       "  </thead>\n",
       "  <tbody>\n",
       "    <tr>\n",
       "      <th>0</th>\n",
       "      <td>5.1</td>\n",
       "      <td>3.5</td>\n",
       "      <td>1.4</td>\n",
       "      <td>0.2</td>\n",
       "      <td>setosa</td>\n",
       "    </tr>\n",
       "    <tr>\n",
       "      <th>1</th>\n",
       "      <td>4.9</td>\n",
       "      <td>3.0</td>\n",
       "      <td>1.4</td>\n",
       "      <td>0.2</td>\n",
       "      <td>setosa</td>\n",
       "    </tr>\n",
       "    <tr>\n",
       "      <th>2</th>\n",
       "      <td>4.7</td>\n",
       "      <td>3.2</td>\n",
       "      <td>1.3</td>\n",
       "      <td>0.2</td>\n",
       "      <td>setosa</td>\n",
       "    </tr>\n",
       "    <tr>\n",
       "      <th>3</th>\n",
       "      <td>4.6</td>\n",
       "      <td>3.1</td>\n",
       "      <td>1.5</td>\n",
       "      <td>0.2</td>\n",
       "      <td>setosa</td>\n",
       "    </tr>\n",
       "    <tr>\n",
       "      <th>4</th>\n",
       "      <td>5.0</td>\n",
       "      <td>3.6</td>\n",
       "      <td>1.4</td>\n",
       "      <td>0.2</td>\n",
       "      <td>setosa</td>\n",
       "    </tr>\n",
       "  </tbody>\n",
       "</table>\n",
       "</div>"
      ],
      "text/plain": [
       "   sepal_length  sepal_width  petal_length  petal_width species\n",
       "0           5.1          3.5           1.4          0.2  setosa\n",
       "1           4.9          3.0           1.4          0.2  setosa\n",
       "2           4.7          3.2           1.3          0.2  setosa\n",
       "3           4.6          3.1           1.5          0.2  setosa\n",
       "4           5.0          3.6           1.4          0.2  setosa"
      ]
     },
     "execution_count": 8,
     "metadata": {},
     "output_type": "execute_result"
    }
   ],
   "source": [
    "## Data import from web\n",
    "data = pd.read_csv('https://raw.githubusercontent.com/mwaskom/seaborn-data/master/iris.csv')\n",
    "data.head(5)"
   ]
  },
  {
   "cell_type": "code",
   "execution_count": 9,
   "metadata": {},
   "outputs": [
    {
     "name": "stdout",
     "output_type": "stream",
     "text": [
      "[[5.1 3.5 1.4 0.2 'setosa']\n",
      " [4.9 3.0 1.4 0.2 'setosa']\n",
      " [4.7 3.2 1.3 0.2 'setosa']\n",
      " [4.6 3.1 1.5 0.2 'setosa']\n",
      " [5.0 3.6 1.4 0.2 'setosa']]\n"
     ]
    }
   ],
   "source": [
    "## Explore data\n",
    "np_data = np.array(data)\n",
    "print(np_data[0:5,:])"
   ]
  },
  {
   "cell_type": "code",
   "execution_count": 10,
   "metadata": {},
   "outputs": [
    {
     "name": "stdout",
     "output_type": "stream",
     "text": [
      "[[5.1 3.5 1.4 0.2]\n",
      " [4.9 3.0 1.4 0.2]\n",
      " [4.7 3.2 1.3 0.2]\n",
      " [4.6 3.1 1.5 0.2]\n",
      " [5.0 3.6 1.4 0.2]]\n",
      "['setosa' 'setosa' 'setosa' 'setosa' 'setosa' 'setosa' 'setosa' 'setosa'\n",
      " 'setosa' 'setosa']\n"
     ]
    }
   ],
   "source": [
    "datax = np_data[:,0:4]\n",
    "datay = np_data[:,-1]\n",
    "print(datax[0:5,:])\n",
    "print(datay[0:10])"
   ]
  },
  {
   "cell_type": "code",
   "execution_count": 11,
   "metadata": {},
   "outputs": [
    {
     "name": "stdout",
     "output_type": "stream",
     "text": [
      "(105, 4) (45, 4) (105,) (45,)\n"
     ]
    }
   ],
   "source": [
    "from sklearn.model_selection import train_test_split\n",
    "trnx, tstx, trny, tsty = train_test_split(datax, datay, test_size=0.3)\n",
    "print(trnx.shape, tstx.shape, trny.shape, tsty.shape)"
   ]
  },
  {
   "cell_type": "code",
   "execution_count": 12,
   "metadata": {},
   "outputs": [
    {
     "name": "stdout",
     "output_type": "stream",
     "text": [
      "0.0 1.0\n",
      "0.08333333333333326 0.9444444444444442\n"
     ]
    }
   ],
   "source": [
    "from sklearn.preprocessing import MinMaxScaler\n",
    "scaler = MinMaxScaler()\n",
    "scaler.fit(trnx)\n",
    "trnx_scale = scaler.transform(trnx)\n",
    "tstx_scale = scaler.transform(tstx)\n",
    "print(np.min(trnx_scale[:,0]), np.max(trnx_scale[:,0]))\n",
    "print(np.min(tstx_scale[:,0]), np.max(tstx_scale[:,0]))"
   ]
  },
  {
   "cell_type": "markdown",
   "metadata": {},
   "source": [
    "## NN with Scikit-Learn"
   ]
  },
  {
   "cell_type": "code",
   "execution_count": 13,
   "metadata": {},
   "outputs": [
    {
     "name": "stderr",
     "output_type": "stream",
     "text": [
      "C:\\Users\\dongilkim\\Anaconda3\\envs\\tensorflow\\lib\\site-packages\\sklearn\\neural_network\\_multilayer_perceptron.py:571: ConvergenceWarning: Stochastic Optimizer: Maximum iterations (500) reached and the optimization hasn't converged yet.\n",
      "  % self.max_iter, ConvergenceWarning)\n"
     ]
    }
   ],
   "source": [
    "from sklearn.neural_network import MLPClassifier\n",
    "\n",
    "clf = MLPClassifier(hidden_layer_sizes=(10,), max_iter=500)\n",
    "clf.fit(trnx, trny)\n",
    "tsty_hat = clf.predict(tstx)"
   ]
  },
  {
   "cell_type": "code",
   "execution_count": 14,
   "metadata": {},
   "outputs": [
    {
     "name": "stdout",
     "output_type": "stream",
     "text": [
      "MLPClassifier(activation='relu', alpha=0.0001, batch_size='auto', beta_1=0.9,\n",
      "              beta_2=0.999, early_stopping=False, epsilon=1e-08,\n",
      "              hidden_layer_sizes=(10,), learning_rate='constant',\n",
      "              learning_rate_init=0.001, max_fun=15000, max_iter=500,\n",
      "              momentum=0.9, n_iter_no_change=10, nesterovs_momentum=True,\n",
      "              power_t=0.5, random_state=None, shuffle=True, solver='adam',\n",
      "              tol=0.0001, validation_fraction=0.1, verbose=False,\n",
      "              warm_start=False)\n",
      "['versicolor' 'versicolor' 'virginica' 'setosa' 'virginica' 'setosa'\n",
      " 'setosa' 'virginica' 'versicolor' 'virginica']\n",
      "['versicolor' 'versicolor' 'virginica' 'setosa' 'virginica' 'setosa'\n",
      " 'setosa' 'virginica' 'versicolor' 'virginica']\n"
     ]
    }
   ],
   "source": [
    "print(clf)\n",
    "#print(clf.loss_curve_)\n",
    "print(tsty[0:10])\n",
    "print(tsty_hat[0:10])"
   ]
  },
  {
   "cell_type": "code",
   "execution_count": 15,
   "metadata": {},
   "outputs": [
    {
     "name": "stdout",
     "output_type": "stream",
     "text": [
      "['versicolor' 'versicolor' 'virginica' 'setosa' 'virginica' 'setosa'\n",
      " 'setosa' 'virginica' 'versicolor' 'virginica']\n",
      "['versicolor' 'versicolor' 'virginica' 'setosa' 'virginica' 'setosa'\n",
      " 'setosa' 'virginica' 'versicolor' 'virginica']\n"
     ]
    },
    {
     "name": "stderr",
     "output_type": "stream",
     "text": [
      "C:\\Users\\dongilkim\\Anaconda3\\envs\\tensorflow\\lib\\site-packages\\sklearn\\neural_network\\_multilayer_perceptron.py:571: ConvergenceWarning: Stochastic Optimizer: Maximum iterations (500) reached and the optimization hasn't converged yet.\n",
      "  % self.max_iter, ConvergenceWarning)\n"
     ]
    }
   ],
   "source": [
    "clf2 = MLPClassifier(hidden_layer_sizes=(10,15,10,), max_iter=500)\n",
    "clf2.fit(trnx, trny)\n",
    "tsty_hat2 = clf2.predict(tstx)\n",
    "print(tsty[0:10])\n",
    "print(tsty_hat2[0:10])"
   ]
  },
  {
   "cell_type": "code",
   "execution_count": 16,
   "metadata": {},
   "outputs": [
    {
     "name": "stdout",
     "output_type": "stream",
     "text": [
      "0.9333333333333333 0.9777777777777777\n"
     ]
    }
   ],
   "source": [
    "from sklearn.metrics import accuracy_score\n",
    "print(accuracy_score(tsty, tsty_hat), accuracy_score(tsty, tsty_hat2))"
   ]
  },
  {
   "cell_type": "markdown",
   "metadata": {},
   "source": [
    "# SVM with scikit-learn"
   ]
  },
  {
   "cell_type": "code",
   "execution_count": 17,
   "metadata": {},
   "outputs": [],
   "source": [
    "from sklearn.svm import SVC\n",
    "svc_model = SVC(C=100, kernel='rbf', degree=3, gamma=0.1, \n",
    "                coef0=0.0, shrinking=True, probability=True, tol=0.001, cache_size=200, \n",
    "                class_weight=None, verbose=False, max_iter=-1, decision_function_shape='ovr', random_state=None)\n",
    "svc_model.fit(X=trnx, y=trny)\n",
    "tsty_hat = svc_model.predict(tstx)"
   ]
  },
  {
   "cell_type": "code",
   "execution_count": 18,
   "metadata": {},
   "outputs": [
    {
     "data": {
      "text/plain": [
       "0.9111111111111111"
      ]
     },
     "execution_count": 18,
     "metadata": {},
     "output_type": "execute_result"
    }
   ],
   "source": [
    "accuracy_score(tsty, tsty_hat)"
   ]
  },
  {
   "cell_type": "code",
   "execution_count": 19,
   "metadata": {},
   "outputs": [
    {
     "name": "stdout",
     "output_type": "stream",
     "text": [
      "['versicolor' 'versicolor' 'virginica' 'setosa' 'virginica' 'setosa'\n",
      " 'setosa' 'virginica' 'versicolor' 'virginica' 'virginica' 'setosa'\n",
      " 'virginica' 'virginica' 'setosa' 'setosa' 'versicolor' 'versicolor'\n",
      " 'setosa' 'setosa' 'versicolor' 'virginica' 'setosa' 'setosa' 'versicolor'\n",
      " 'virginica' 'setosa' 'virginica' 'versicolor' 'versicolor' 'virginica'\n",
      " 'setosa' 'versicolor' 'virginica' 'virginica' 'setosa' 'virginica'\n",
      " 'setosa' 'virginica' 'versicolor' 'virginica' 'setosa' 'versicolor'\n",
      " 'versicolor' 'setosa']\n",
      "['versicolor' 'versicolor' 'virginica' 'setosa' 'virginica' 'setosa'\n",
      " 'setosa' 'versicolor' 'versicolor' 'virginica' 'virginica' 'setosa'\n",
      " 'virginica' 'virginica' 'setosa' 'setosa' 'virginica' 'versicolor'\n",
      " 'setosa' 'setosa' 'versicolor' 'virginica' 'setosa' 'setosa' 'versicolor'\n",
      " 'virginica' 'setosa' 'virginica' 'versicolor' 'versicolor' 'versicolor'\n",
      " 'setosa' 'versicolor' 'versicolor' 'virginica' 'setosa' 'virginica'\n",
      " 'setosa' 'virginica' 'versicolor' 'virginica' 'setosa' 'versicolor'\n",
      " 'versicolor' 'setosa']\n"
     ]
    }
   ],
   "source": [
    "print(tsty)\n",
    "print(tsty_hat)"
   ]
  },
  {
   "cell_type": "markdown",
   "metadata": {},
   "source": [
    "# NN with Tensorflow"
   ]
  },
  {
   "cell_type": "code",
   "execution_count": 20,
   "metadata": {},
   "outputs": [],
   "source": [
    "import tensorflow as tf\n",
    "from tensorflow.keras import layers, models, optimizers"
   ]
  },
  {
   "cell_type": "code",
   "execution_count": 22,
   "metadata": {},
   "outputs": [],
   "source": [
    "trnx_f32 = trnx.astype(np.float32)\n",
    "tstx_f32 = tstx.astype(np.float32)"
   ]
  },
  {
   "cell_type": "code",
   "execution_count": 23,
   "metadata": {},
   "outputs": [
    {
     "name": "stdout",
     "output_type": "stream",
     "text": [
      "[[0 0 1]\n",
      " [1 0 0]\n",
      " [0 1 0]\n",
      " [0 0 1]\n",
      " [1 0 0]]\n",
      "[[0 1 0]\n",
      " [0 1 0]\n",
      " [0 0 1]\n",
      " [1 0 0]\n",
      " [0 0 1]]\n"
     ]
    }
   ],
   "source": [
    "from sklearn.preprocessing import LabelBinarizer\n",
    "encoder = LabelBinarizer()\n",
    "trny_onehot = encoder.fit_transform(trny)\n",
    "tsty_onehot = encoder.transform(tsty)\n",
    "\n",
    "print(trny_onehot[0:5,:])\n",
    "print(tsty_onehot[0:5,:])"
   ]
  },
  {
   "cell_type": "markdown",
   "metadata": {},
   "source": [
    "## TF with Sequential API"
   ]
  },
  {
   "cell_type": "code",
   "execution_count": 24,
   "metadata": {},
   "outputs": [],
   "source": [
    "input_shape = (4,)\n",
    "\n",
    "mlp_model = models.Sequential()\n",
    "mlp_model.add(layers.Dense(units = 10, activation = 'relu', input_shape=input_shape))\n",
    "mlp_model.add(layers.Dense(units = 20, activation = 'relu'))\n",
    "mlp_model.add(layers.Dense(units = 10, activation = 'relu'))\n",
    "mlp_model.add(layers.Dense(units = 3, activation = 'softmax'))\n",
    "\n",
    "mlp_model.compile(optimizer='Adam', loss = 'categorical_crossentropy', metrics=['accuracy'])"
   ]
  },
  {
   "cell_type": "code",
   "execution_count": 25,
   "metadata": {},
   "outputs": [
    {
     "name": "stdout",
     "output_type": "stream",
     "text": [
      "Model: \"sequential\"\n",
      "_________________________________________________________________\n",
      "Layer (type)                 Output Shape              Param #   \n",
      "=================================================================\n",
      "dense (Dense)                (None, 10)                50        \n",
      "_________________________________________________________________\n",
      "dense_1 (Dense)              (None, 20)                220       \n",
      "_________________________________________________________________\n",
      "dense_2 (Dense)              (None, 10)                210       \n",
      "_________________________________________________________________\n",
      "dense_3 (Dense)              (None, 3)                 33        \n",
      "=================================================================\n",
      "Total params: 513\n",
      "Trainable params: 513\n",
      "Non-trainable params: 0\n",
      "_________________________________________________________________\n"
     ]
    }
   ],
   "source": [
    "mlp_model.summary()"
   ]
  },
  {
   "cell_type": "code",
   "execution_count": 27,
   "metadata": {
    "scrolled": true
   },
   "outputs": [
    {
     "name": "stdout",
     "output_type": "stream",
     "text": [
      "Train on 105 samples, validate on 45 samples\n",
      "Epoch 1/50\n",
      "105/105 [==============================] - 1s 8ms/sample - loss: 1.1999 - accuracy: 0.3238 - val_loss: 1.0514 - val_accuracy: 0.3556\n",
      "Epoch 2/50\n",
      "105/105 [==============================] - 0s 370us/sample - loss: 1.0415 - accuracy: 0.4095 - val_loss: 0.9540 - val_accuracy: 0.7111\n",
      "Epoch 3/50\n",
      "105/105 [==============================] - 0s 370us/sample - loss: 0.9563 - accuracy: 0.6571 - val_loss: 0.8940 - val_accuracy: 0.7111\n",
      "Epoch 4/50\n",
      "105/105 [==============================] - 0s 361us/sample - loss: 0.9050 - accuracy: 0.6476 - val_loss: 0.8516 - val_accuracy: 0.7111\n",
      "Epoch 5/50\n",
      "105/105 [==============================] - 0s 456us/sample - loss: 0.8606 - accuracy: 0.6476 - val_loss: 0.8074 - val_accuracy: 0.7111\n",
      "Epoch 6/50\n",
      "105/105 [==============================] - 0s 494us/sample - loss: 0.8167 - accuracy: 0.6476 - val_loss: 0.7628 - val_accuracy: 0.7111\n",
      "Epoch 7/50\n",
      "105/105 [==============================] - 0s 522us/sample - loss: 0.7751 - accuracy: 0.6476 - val_loss: 0.7179 - val_accuracy: 0.7111\n",
      "Epoch 8/50\n",
      "105/105 [==============================] - 0s 456us/sample - loss: 0.7264 - accuracy: 0.7143 - val_loss: 0.6683 - val_accuracy: 0.8889\n",
      "Epoch 9/50\n",
      "105/105 [==============================] - 0s 380us/sample - loss: 0.6801 - accuracy: 0.8857 - val_loss: 0.6242 - val_accuracy: 0.9333\n",
      "Epoch 10/50\n",
      "105/105 [==============================] - 0s 361us/sample - loss: 0.6358 - accuracy: 0.8857 - val_loss: 0.5795 - val_accuracy: 0.8889\n",
      "Epoch 11/50\n",
      "105/105 [==============================] - 0s 351us/sample - loss: 0.5967 - accuracy: 0.8952 - val_loss: 0.5407 - val_accuracy: 0.9333\n",
      "Epoch 12/50\n",
      "105/105 [==============================] - 0s 351us/sample - loss: 0.5611 - accuracy: 0.8857 - val_loss: 0.5055 - val_accuracy: 0.9333\n",
      "Epoch 13/50\n",
      "105/105 [==============================] - 0s 361us/sample - loss: 0.5324 - accuracy: 0.9429 - val_loss: 0.4811 - val_accuracy: 0.9778\n",
      "Epoch 14/50\n",
      "105/105 [==============================] - 0s 380us/sample - loss: 0.5015 - accuracy: 0.9333 - val_loss: 0.4517 - val_accuracy: 0.9556\n",
      "Epoch 15/50\n",
      "105/105 [==============================] - 0s 437us/sample - loss: 0.4774 - accuracy: 0.9333 - val_loss: 0.4316 - val_accuracy: 0.9778\n",
      "Epoch 16/50\n",
      "105/105 [==============================] - 0s 389us/sample - loss: 0.4563 - accuracy: 0.9333 - val_loss: 0.4109 - val_accuracy: 0.9778\n",
      "Epoch 17/50\n",
      "105/105 [==============================] - 0s 380us/sample - loss: 0.4424 - accuracy: 0.9524 - val_loss: 0.3908 - val_accuracy: 0.9778\n",
      "Epoch 18/50\n",
      "105/105 [==============================] - 0s 361us/sample - loss: 0.4178 - accuracy: 0.9429 - val_loss: 0.3779 - val_accuracy: 1.0000\n",
      "Epoch 19/50\n",
      "105/105 [==============================] - 0s 370us/sample - loss: 0.4033 - accuracy: 0.9619 - val_loss: 0.3587 - val_accuracy: 0.9778\n",
      "Epoch 20/50\n",
      "105/105 [==============================] - 0s 408us/sample - loss: 0.3989 - accuracy: 0.9238 - val_loss: 0.3393 - val_accuracy: 0.9778\n",
      "Epoch 21/50\n",
      "105/105 [==============================] - 0s 427us/sample - loss: 0.3801 - accuracy: 0.9524 - val_loss: 0.3336 - val_accuracy: 0.9778\n",
      "Epoch 22/50\n",
      "105/105 [==============================] - 0s 494us/sample - loss: 0.3651 - accuracy: 0.9429 - val_loss: 0.3108 - val_accuracy: 0.9778\n",
      "Epoch 23/50\n",
      "105/105 [==============================] - 0s 427us/sample - loss: 0.3518 - accuracy: 0.9524 - val_loss: 0.3038 - val_accuracy: 1.0000\n",
      "Epoch 24/50\n",
      "105/105 [==============================] - 0s 408us/sample - loss: 0.3322 - accuracy: 0.9524 - val_loss: 0.2857 - val_accuracy: 0.9778\n",
      "Epoch 25/50\n",
      "105/105 [==============================] - 0s 399us/sample - loss: 0.3272 - accuracy: 0.9524 - val_loss: 0.2751 - val_accuracy: 1.0000\n",
      "Epoch 26/50\n",
      "105/105 [==============================] - 0s 408us/sample - loss: 0.3116 - accuracy: 0.9619 - val_loss: 0.2634 - val_accuracy: 1.0000\n",
      "Epoch 27/50\n",
      "105/105 [==============================] - 0s 408us/sample - loss: 0.2993 - accuracy: 0.9619 - val_loss: 0.2539 - val_accuracy: 1.0000\n",
      "Epoch 28/50\n",
      "105/105 [==============================] - 0s 437us/sample - loss: 0.2955 - accuracy: 0.9429 - val_loss: 0.2419 - val_accuracy: 1.0000\n",
      "Epoch 29/50\n",
      "105/105 [==============================] - 0s 475us/sample - loss: 0.2868 - accuracy: 0.9619 - val_loss: 0.2344 - val_accuracy: 1.0000\n",
      "Epoch 30/50\n",
      "105/105 [==============================] - 0s 484us/sample - loss: 0.2754 - accuracy: 0.9524 - val_loss: 0.2223 - val_accuracy: 1.0000\n",
      "Epoch 31/50\n",
      "105/105 [==============================] - 0s 503us/sample - loss: 0.2610 - accuracy: 0.9619 - val_loss: 0.2129 - val_accuracy: 1.0000\n",
      "Epoch 32/50\n",
      "105/105 [==============================] - 0s 437us/sample - loss: 0.2511 - accuracy: 0.9619 - val_loss: 0.2036 - val_accuracy: 1.0000\n",
      "Epoch 33/50\n",
      "105/105 [==============================] - 0s 408us/sample - loss: 0.2412 - accuracy: 0.9714 - val_loss: 0.1969 - val_accuracy: 1.0000\n",
      "Epoch 34/50\n",
      "105/105 [==============================] - 0s 427us/sample - loss: 0.2337 - accuracy: 0.9619 - val_loss: 0.1874 - val_accuracy: 1.0000\n",
      "Epoch 35/50\n",
      "105/105 [==============================] - 0s 475us/sample - loss: 0.2291 - accuracy: 0.9619 - val_loss: 0.1806 - val_accuracy: 1.0000\n",
      "Epoch 36/50\n",
      "105/105 [==============================] - 0s 399us/sample - loss: 0.2199 - accuracy: 0.9714 - val_loss: 0.1703 - val_accuracy: 1.0000\n",
      "Epoch 37/50\n",
      "105/105 [==============================] - 0s 408us/sample - loss: 0.2147 - accuracy: 0.9619 - val_loss: 0.1664 - val_accuracy: 1.0000\n",
      "Epoch 38/50\n",
      "105/105 [==============================] - 0s 456us/sample - loss: 0.2027 - accuracy: 0.9619 - val_loss: 0.1570 - val_accuracy: 0.9778\n",
      "Epoch 39/50\n",
      "105/105 [==============================] - 0s 427us/sample - loss: 0.2000 - accuracy: 0.9714 - val_loss: 0.1595 - val_accuracy: 0.9778\n",
      "Epoch 40/50\n",
      "105/105 [==============================] - 0s 380us/sample - loss: 0.2062 - accuracy: 0.9524 - val_loss: 0.1453 - val_accuracy: 1.0000\n",
      "Epoch 41/50\n",
      "105/105 [==============================] - 0s 389us/sample - loss: 0.1968 - accuracy: 0.9524 - val_loss: 0.1436 - val_accuracy: 1.0000\n",
      "Epoch 42/50\n",
      "105/105 [==============================] - 0s 389us/sample - loss: 0.1982 - accuracy: 0.9524 - val_loss: 0.1361 - val_accuracy: 1.0000\n",
      "Epoch 43/50\n",
      "105/105 [==============================] - 0s 408us/sample - loss: 0.1795 - accuracy: 0.9714 - val_loss: 0.1355 - val_accuracy: 1.0000\n",
      "Epoch 44/50\n",
      "105/105 [==============================] - 0s 380us/sample - loss: 0.1736 - accuracy: 0.9619 - val_loss: 0.1265 - val_accuracy: 1.0000\n",
      "Epoch 45/50\n",
      "105/105 [==============================] - 0s 399us/sample - loss: 0.1657 - accuracy: 0.9619 - val_loss: 0.1243 - val_accuracy: 1.0000\n",
      "Epoch 46/50\n",
      "105/105 [==============================] - 0s 427us/sample - loss: 0.1612 - accuracy: 0.9714 - val_loss: 0.1173 - val_accuracy: 1.0000\n",
      "Epoch 47/50\n",
      "105/105 [==============================] - 0s 418us/sample - loss: 0.1574 - accuracy: 0.9714 - val_loss: 0.1150 - val_accuracy: 1.0000\n",
      "Epoch 48/50\n",
      "105/105 [==============================] - 0s 420us/sample - loss: 0.1524 - accuracy: 0.9619 - val_loss: 0.1095 - val_accuracy: 1.0000\n",
      "Epoch 49/50\n",
      "105/105 [==============================] - 0s 418us/sample - loss: 0.1472 - accuracy: 0.9524 - val_loss: 0.1076 - val_accuracy: 1.0000\n",
      "Epoch 50/50\n",
      "105/105 [==============================] - 0s 418us/sample - loss: 0.1435 - accuracy: 0.9714 - val_loss: 0.1029 - val_accuracy: 1.0000\n"
     ]
    }
   ],
   "source": [
    "history = mlp_model.fit(trnx_f32, trny_onehot, validation_data = [tstx_f32, tsty_onehot], batch_size=10, epochs=50)"
   ]
  },
  {
   "cell_type": "code",
   "execution_count": 28,
   "metadata": {},
   "outputs": [
    {
     "data": {
      "image/png": "[encoded data removed]",
      "text/plain": [
       "<Figure size 432x288 with 1 Axes>"
      ]
     },
     "metadata": {
      "needs_background": "light"
     },
     "output_type": "display_data"
    },
    {
     "data": {
      "image/png": "[encoded data removed]",
      "text/plain": [
       "<Figure size 432x288 with 1 Axes>"
      ]
     },
     "metadata": {
      "needs_background": "light"
     },
     "output_type": "display_data"
    }
   ],
   "source": [
    "plt.plot(history.history['accuracy'])\n",
    "plt.plot(history.history['val_accuracy'])\n",
    "plt.title('model accuracy')\n",
    "plt.ylabel('accuracy')\n",
    "plt.xlabel('epoch')\n",
    "plt.legend(['train', 'test'], loc='upper left')\n",
    "plt.show()\n",
    "# summarize history for loss\n",
    "plt.plot(history.history['loss'])\n",
    "plt.plot(history.history['val_loss'])\n",
    "plt.title('model loss')\n",
    "plt.ylabel('loss')\n",
    "plt.xlabel('epoch')\n",
    "plt.legend(['train', 'test'], loc='upper left')\n",
    "plt.show()"
   ]
  },
  {
   "cell_type": "markdown",
   "metadata": {},
   "source": [
    "## TF with Functional API"
   ]
  },
  {
   "cell_type": "code",
   "execution_count": 29,
   "metadata": {},
   "outputs": [
    {
     "name": "stdout",
     "output_type": "stream",
     "text": [
      "Model: \"model\"\n",
      "_________________________________________________________________\n",
      "Layer (type)                 Output Shape              Param #   \n",
      "=================================================================\n",
      "input_1 (InputLayer)         [(None, 4)]               0         \n",
      "_________________________________________________________________\n",
      "dense_4 (Dense)              (None, 10)                50        \n",
      "_________________________________________________________________\n",
      "dense_5 (Dense)              (None, 20)                220       \n",
      "_________________________________________________________________\n",
      "dense_6 (Dense)              (None, 10)                210       \n",
      "_________________________________________________________________\n",
      "dense_7 (Dense)              (None, 3)                 33        \n",
      "=================================================================\n",
      "Total params: 513\n",
      "Trainable params: 513\n",
      "Non-trainable params: 0\n",
      "_________________________________________________________________\n"
     ]
    }
   ],
   "source": [
    "input_shape = (4,)\n",
    "\n",
    "visible = layers.Input(shape=input_shape)\n",
    "hidden1 = layers.Dense(10, activation='relu')(visible)\n",
    "hidden2 = layers.Dense(20, activation='relu')(hidden1)\n",
    "hidden3 = layers.Dense(10, activation='relu')(hidden2)\n",
    "output = layers.Dense(3, activation='softmax')(hidden3)\n",
    "\n",
    "mlp_function = models.Model(visible, output)\n",
    "\n",
    "mlp_function.summary()"
   ]
  },
  {
   "cell_type": "code",
   "execution_count": 30,
   "metadata": {
    "scrolled": true
   },
   "outputs": [
    {
     "name": "stdout",
     "output_type": "stream",
     "text": [
      "Train on 105 samples, validate on 45 samples\n",
      "Epoch 1/50\n",
      "105/105 [==============================] - 1s 6ms/sample - loss: 1.1937 - accuracy: 0.2381 - val_loss: 1.1374 - val_accuracy: 0.1111\n",
      "Epoch 2/50\n",
      "105/105 [==============================] - 0s 370us/sample - loss: 1.1250 - accuracy: 0.2286 - val_loss: 1.0811 - val_accuracy: 0.3778\n",
      "Epoch 3/50\n",
      "105/105 [==============================] - 0s 389us/sample - loss: 1.0904 - accuracy: 0.4571 - val_loss: 1.0431 - val_accuracy: 0.4444\n",
      "Epoch 4/50\n",
      "105/105 [==============================] - 0s 370us/sample - loss: 1.0588 - accuracy: 0.3810 - val_loss: 1.0017 - val_accuracy: 0.3556\n",
      "Epoch 5/50\n",
      "105/105 [==============================] - 0s 370us/sample - loss: 1.0165 - accuracy: 0.3333 - val_loss: 0.9706 - val_accuracy: 0.3556\n",
      "Epoch 6/50\n",
      "105/105 [==============================] - 0s 408us/sample - loss: 0.9937 - accuracy: 0.3429 - val_loss: 0.9464 - val_accuracy: 0.3556\n",
      "Epoch 7/50\n",
      "105/105 [==============================] - 0s 418us/sample - loss: 0.9742 - accuracy: 0.3429 - val_loss: 0.9275 - val_accuracy: 0.4667\n",
      "Epoch 8/50\n",
      "105/105 [==============================] - 0s 437us/sample - loss: 0.9489 - accuracy: 0.4000 - val_loss: 0.9002 - val_accuracy: 0.5111\n",
      "Epoch 9/50\n",
      "105/105 [==============================] - 0s 427us/sample - loss: 0.9309 - accuracy: 0.4190 - val_loss: 0.8765 - val_accuracy: 0.5333\n",
      "Epoch 10/50\n",
      "105/105 [==============================] - 0s 408us/sample - loss: 0.9021 - accuracy: 0.4286 - val_loss: 0.8501 - val_accuracy: 0.5111\n",
      "Epoch 11/50\n",
      "105/105 [==============================] - 0s 437us/sample - loss: 0.8874 - accuracy: 0.4381 - val_loss: 0.8273 - val_accuracy: 0.5111\n",
      "Epoch 12/50\n",
      "105/105 [==============================] - 0s 465us/sample - loss: 0.8662 - accuracy: 0.4190 - val_loss: 0.8129 - val_accuracy: 0.5778\n",
      "Epoch 13/50\n",
      "105/105 [==============================] - 0s 475us/sample - loss: 0.8521 - accuracy: 0.4667 - val_loss: 0.7843 - val_accuracy: 0.4889\n",
      "Epoch 14/50\n",
      "105/105 [==============================] - 0s 484us/sample - loss: 0.8318 - accuracy: 0.6381 - val_loss: 0.7665 - val_accuracy: 0.9333\n",
      "Epoch 15/50\n",
      "105/105 [==============================] - 0s 418us/sample - loss: 0.8030 - accuracy: 0.8286 - val_loss: 0.7358 - val_accuracy: 0.8000\n",
      "Epoch 16/50\n",
      "105/105 [==============================] - 0s 427us/sample - loss: 0.7909 - accuracy: 0.7619 - val_loss: 0.7118 - val_accuracy: 0.8667\n",
      "Epoch 17/50\n",
      "105/105 [==============================] - 0s 408us/sample - loss: 0.7631 - accuracy: 0.8095 - val_loss: 0.6869 - val_accuracy: 0.8667\n",
      "Epoch 18/50\n",
      "105/105 [==============================] - 0s 408us/sample - loss: 0.7563 - accuracy: 0.7810 - val_loss: 0.6741 - val_accuracy: 0.9333\n",
      "Epoch 19/50\n",
      "105/105 [==============================] - 0s 408us/sample - loss: 0.7253 - accuracy: 0.8095 - val_loss: 0.6565 - val_accuracy: 0.9556\n",
      "Epoch 20/50\n",
      "105/105 [==============================] - 0s 380us/sample - loss: 0.7024 - accuracy: 0.8381 - val_loss: 0.6250 - val_accuracy: 0.8667\n",
      "Epoch 21/50\n",
      "105/105 [==============================] - 0s 465us/sample - loss: 0.6888 - accuracy: 0.8000 - val_loss: 0.6072 - val_accuracy: 0.9556\n",
      "Epoch 22/50\n",
      "105/105 [==============================] - 0s 513us/sample - loss: 0.6670 - accuracy: 0.8286 - val_loss: 0.6054 - val_accuracy: 0.9556\n",
      "Epoch 23/50\n",
      "105/105 [==============================] - 0s 380us/sample - loss: 0.6461 - accuracy: 0.8571 - val_loss: 0.5745 - val_accuracy: 0.9556\n",
      "Epoch 24/50\n",
      "105/105 [==============================] - 0s 399us/sample - loss: 0.6247 - accuracy: 0.8857 - val_loss: 0.5370 - val_accuracy: 0.9333\n",
      "Epoch 25/50\n",
      "105/105 [==============================] - 0s 408us/sample - loss: 0.6040 - accuracy: 0.8476 - val_loss: 0.5480 - val_accuracy: 0.9556\n",
      "Epoch 26/50\n",
      "105/105 [==============================] - 0s 456us/sample - loss: 0.5821 - accuracy: 0.9143 - val_loss: 0.5086 - val_accuracy: 0.8667\n",
      "Epoch 27/50\n",
      "105/105 [==============================] - 0s 389us/sample - loss: 0.5694 - accuracy: 0.8762 - val_loss: 0.4798 - val_accuracy: 0.9333\n",
      "Epoch 28/50\n",
      "105/105 [==============================] - 0s 370us/sample - loss: 0.5472 - accuracy: 0.8857 - val_loss: 0.4599 - val_accuracy: 0.9556\n",
      "Epoch 29/50\n",
      "105/105 [==============================] - 0s 370us/sample - loss: 0.5205 - accuracy: 0.9048 - val_loss: 0.4541 - val_accuracy: 0.9778\n",
      "Epoch 30/50\n",
      "105/105 [==============================] - 0s 361us/sample - loss: 0.5045 - accuracy: 0.8952 - val_loss: 0.4222 - val_accuracy: 0.9556\n",
      "Epoch 31/50\n",
      "105/105 [==============================] - 0s 370us/sample - loss: 0.4784 - accuracy: 0.9238 - val_loss: 0.4220 - val_accuracy: 0.9778\n",
      "Epoch 32/50\n",
      "105/105 [==============================] - 0s 380us/sample - loss: 0.4630 - accuracy: 0.9333 - val_loss: 0.3853 - val_accuracy: 0.9778\n",
      "Epoch 33/50\n",
      "105/105 [==============================] - 0s 370us/sample - loss: 0.4464 - accuracy: 0.9429 - val_loss: 0.3636 - val_accuracy: 0.9556\n",
      "Epoch 34/50\n",
      "105/105 [==============================] - 0s 380us/sample - loss: 0.4267 - accuracy: 0.9619 - val_loss: 0.3451 - val_accuracy: 0.9556\n",
      "Epoch 35/50\n",
      "105/105 [==============================] - 0s 380us/sample - loss: 0.4150 - accuracy: 0.9238 - val_loss: 0.3280 - val_accuracy: 0.9556\n",
      "Epoch 36/50\n",
      "105/105 [==============================] - 0s 389us/sample - loss: 0.3822 - accuracy: 0.9619 - val_loss: 0.3150 - val_accuracy: 0.9778\n",
      "Epoch 37/50\n",
      "105/105 [==============================] - 0s 361us/sample - loss: 0.3789 - accuracy: 0.9048 - val_loss: 0.3074 - val_accuracy: 0.9778\n",
      "Epoch 38/50\n",
      "105/105 [==============================] - 0s 380us/sample - loss: 0.3552 - accuracy: 0.9524 - val_loss: 0.2875 - val_accuracy: 0.9778\n",
      "Epoch 39/50\n",
      "105/105 [==============================] - 0s 399us/sample - loss: 0.3420 - accuracy: 0.9524 - val_loss: 0.2863 - val_accuracy: 0.9556\n",
      "Epoch 40/50\n",
      "105/105 [==============================] - 0s 399us/sample - loss: 0.3416 - accuracy: 0.9429 - val_loss: 0.2592 - val_accuracy: 0.9778\n",
      "Epoch 41/50\n",
      "105/105 [==============================] - 0s 380us/sample - loss: 0.3214 - accuracy: 0.9333 - val_loss: 0.2447 - val_accuracy: 0.9778\n",
      "Epoch 42/50\n",
      "105/105 [==============================] - 0s 389us/sample - loss: 0.3039 - accuracy: 0.9714 - val_loss: 0.2677 - val_accuracy: 0.9556\n",
      "Epoch 43/50\n",
      "105/105 [==============================] - 0s 380us/sample - loss: 0.2982 - accuracy: 0.9429 - val_loss: 0.2409 - val_accuracy: 0.9556\n",
      "Epoch 44/50\n",
      "105/105 [==============================] - 0s 389us/sample - loss: 0.2821 - accuracy: 0.9619 - val_loss: 0.2404 - val_accuracy: 0.9556\n",
      "Epoch 45/50\n",
      "105/105 [==============================] - 0s 399us/sample - loss: 0.2640 - accuracy: 0.9714 - val_loss: 0.2122 - val_accuracy: 0.9778\n",
      "Epoch 46/50\n",
      "105/105 [==============================] - 0s 418us/sample - loss: 0.2602 - accuracy: 0.9714 - val_loss: 0.1922 - val_accuracy: 0.9778\n",
      "Epoch 47/50\n",
      "105/105 [==============================] - 0s 456us/sample - loss: 0.2542 - accuracy: 0.9524 - val_loss: 0.1844 - val_accuracy: 0.9778\n",
      "Epoch 48/50\n",
      "105/105 [==============================] - 0s 389us/sample - loss: 0.2416 - accuracy: 0.9619 - val_loss: 0.1872 - val_accuracy: 0.9556\n",
      "Epoch 49/50\n",
      "105/105 [==============================] - 0s 380us/sample - loss: 0.2309 - accuracy: 0.9524 - val_loss: 0.1780 - val_accuracy: 0.9778\n",
      "Epoch 50/50\n",
      "105/105 [==============================] - 0s 370us/sample - loss: 0.2265 - accuracy: 0.9714 - val_loss: 0.1672 - val_accuracy: 1.0000\n"
     ]
    }
   ],
   "source": [
    "mlp_function.compile(optimizer='RMSprop', loss = 'categorical_crossentropy', metrics=['accuracy'])\n",
    "history = mlp_function.fit(trnx_f32, trny_onehot, validation_data = [tstx_f32, tsty_onehot], batch_size=10, epochs=50)"
   ]
  },
  {
   "cell_type": "code",
   "execution_count": 31,
   "metadata": {},
   "outputs": [
    {
     "data": {
      "image/png": "[encoded data removed]",
      "text/plain": [
       "<Figure size 432x288 with 1 Axes>"
      ]
     },
     "metadata": {
      "needs_background": "light"
     },
     "output_type": "display_data"
    },
    {
     "data": {
      "image/png": "[encoded data removed]",
      "text/plain": [
       "<Figure size 432x288 with 1 Axes>"
      ]
     },
     "metadata": {
      "needs_background": "light"
     },
     "output_type": "display_data"
    }
   ],
   "source": [
    "plt.plot(history.history['accuracy'])\n",
    "plt.plot(history.history['val_accuracy'])\n",
    "plt.title('model accuracy')\n",
    "plt.ylabel('accuracy')\n",
    "plt.xlabel('epoch')\n",
    "plt.legend(['train', 'test'], loc='upper left')\n",
    "plt.show()\n",
    "# summarize history for loss\n",
    "plt.plot(history.history['loss'])\n",
    "plt.plot(history.history['val_loss'])\n",
    "plt.title('model loss')\n",
    "plt.ylabel('loss')\n",
    "plt.xlabel('epoch')\n",
    "plt.legend(['train', 'test'], loc='upper left')\n",
    "plt.show()"
   ]
  },
  {
   "cell_type": "markdown",
   "metadata": {},
   "source": [
    "## TF low level API"
   ]
  },
  {
   "cell_type": "code",
   "execution_count": 32,
   "metadata": {},
   "outputs": [
    {
     "name": "stdout",
     "output_type": "stream",
     "text": [
      "2.1.0\n"
     ]
    }
   ],
   "source": [
    "print(tf.__version__)"
   ]
  },
  {
   "cell_type": "code",
   "execution_count": 33,
   "metadata": {},
   "outputs": [],
   "source": [
    "initializer = tf.initializers.glorot_uniform()\n",
    "def get_weight( shape , name ):\n",
    "    return tf.Variable( initializer( shape ) , name=name , trainable=True , dtype=tf.float32 )\n",
    "\n",
    "shapes = [\n",
    "    [4, 15] , \n",
    "    [15, 30] , \n",
    "    [30, 15] , \n",
    "    [15, 3] ,\n",
    "]\n",
    "\n",
    "weights = []\n",
    "for i in range( len( shapes ) ):\n",
    "    weights.append( get_weight( shapes[ i ] , 'weight{}'.format( i ) ) )"
   ]
  },
  {
   "cell_type": "code",
   "execution_count": 34,
   "metadata": {},
   "outputs": [],
   "source": [
    "def model(X, p_keep_hidden):\n",
    "\n",
    "    h1 = tf.nn.sigmoid(tf.matmul(X, weights[0]))\n",
    "    #h1 = tf.nn.dropout(h1, p_keep_hidden)\n",
    "    \n",
    "    h2 = tf.nn.relu(tf.matmul(h1, weights[1]))\n",
    "    h2 = tf.nn.dropout(h2, p_keep_hidden)\n",
    "    \n",
    "    h3 = tf.matmul(h2, weights[2])\n",
    "    h3 = tf.nn.sigmoid(h3)\n",
    "    #h3 = tf.nn.dropout(h3, p_keep_hidden)\n",
    "    \n",
    "    out = tf.nn.softmax(tf.matmul(h3, weights[3]))\n",
    "    \n",
    "    return out"
   ]
  },
  {
   "cell_type": "code",
   "execution_count": 35,
   "metadata": {},
   "outputs": [],
   "source": [
    "p_keep_hidden = 0.1\n",
    "learning_rate = 0.01\n",
    "optimizer = tf.optimizers.Adam(learning_rate)\n",
    "def loss(target, pred):\n",
    "    return tf.losses.categorical_crossentropy(target,pred)\n",
    "\n",
    "def train_step(model, inputs, outputs):\n",
    "    with tf.GradientTape() as tape:\n",
    "        current_loss = loss(outputs,model(inputs, p_keep_hidden))\n",
    "    grads = tape.gradient( current_loss , weights )\n",
    "    optimizer.apply_gradients( zip( grads , weights ) )\n",
    "    #print( tf.reduce_mean( current_loss ) )"
   ]
  },
  {
   "cell_type": "code",
   "execution_count": 36,
   "metadata": {},
   "outputs": [],
   "source": [
    "batch_size = 50\n",
    "max_epoch = 100\n",
    "for i in range(max_epoch):\n",
    "    start = np.random.permutation(len(trnx)-10)[0]\n",
    "    end = start+10\n",
    "    train_step(model, trnx_f32[start:end,:], trny_onehot[start:end,:].astype('float32'))"
   ]
  },
  {
   "cell_type": "code",
   "execution_count": 38,
   "metadata": {},
   "outputs": [
    {
     "name": "stdout",
     "output_type": "stream",
     "text": [
      "tf.Tensor(\n",
      "[1 1 2 0 2 0 0 2 1 2 2 0 2 2 0 0 1 1 0 0 1 2 0 0 1 2 0 2 1 1 2 0 1 2 2 0 2\n",
      " 0 2 1 2 0 1 1 0], shape=(45,), dtype=int64)\n",
      "tf.Tensor(\n",
      "[1 1 2 0 2 0 0 2 1 2 2 0 2 2 0 0 2 1 0 0 1 2 0 0 1 2 0 2 1 1 2 0 1 1 1 0 2\n",
      " 0 2 1 2 0 1 1 0], shape=(45,), dtype=int64)\n"
     ]
    },
    {
     "data": {
      "text/plain": [
       "0.9333333333333333"
      ]
     },
     "execution_count": 38,
     "metadata": {},
     "output_type": "execute_result"
    }
   ],
   "source": [
    "from sklearn.metrics import accuracy_score\n",
    "\n",
    "pred = model(tstx_f32, p_keep_hidden)\n",
    "print(tf.argmax(tsty_onehot.astype('float32'), axis=1))\n",
    "print(tf.argmax(pred, axis=1))\n",
    "\n",
    "accuracy_score(tf.argmax(tsty_onehot, axis=1), tf.argmax(pred, axis=1))"
   ]
  },
  {
   "cell_type": "code",
   "execution_count": 39,
   "metadata": {},
   "outputs": [
    {
     "name": "stdout",
     "output_type": "stream",
     "text": [
      "텐서가 GPU #0에 있는가 : \n",
      "True\n"
     ]
    }
   ],
   "source": [
    "print(\"텐서가 GPU #0에 있는가 : \"),\n",
    "print(pred.device.endswith('GPU:0'))"
   ]
  },
  {
   "cell_type": "code",
   "execution_count": null,
   "metadata": {},
   "outputs": [],
   "source": []
  }
 ],
 "metadata": {
  "kernelspec": {
   "display_name": "Python 3",
   "language": "python",
   "name": "python3"
  },
  "language_info": {
   "codemirror_mode": {
    "name": "ipython",
    "version": 3
   },
   "file_extension": ".py",
   "mimetype": "text/x-python",
   "name": "python",
   "nbconvert_exporter": "python",
   "pygments_lexer": "ipython3",
   "version": "3.7.7"
  }
 },
 "nbformat": 4,
 "nbformat_minor": 4
}
