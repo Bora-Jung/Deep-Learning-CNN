{
 "cells": [
  {
   "cell_type": "code",
   "execution_count": 1,
   "metadata": {},
   "outputs": [],
   "source": [
    "## Import basic libraries to handle data \n",
    "from os.path import join\n",
    "import numpy as np\n",
    "import pandas as pd\n",
    "import matplotlib.pyplot as plt\n",
    "%matplotlib inline\n",
    "\n",
    "import tensorflow as tf\n",
    "from tensorflow.keras import layers, models, optimizers\n",
    "from tensorflow.keras.utils import to_categorical"
   ]
  },
  {
   "cell_type": "code",
   "execution_count": 2,
   "metadata": {},
   "outputs": [
    {
     "name": "stdout",
     "output_type": "stream",
     "text": [
      "(60000, 28, 28)\n",
      "(60000,)\n"
     ]
    }
   ],
   "source": [
    "datax = np.load(join('data','MNIST.npy'))\n",
    "datay = np.load(join('data','Label.npy'))\n",
    "print(datax.shape)\n",
    "print(datay.shape)"
   ]
  },
  {
   "cell_type": "code",
   "execution_count": 3,
   "metadata": {},
   "outputs": [
    {
     "data": {
      "text/plain": [
       "<matplotlib.image.AxesImage at 0x19affedafc8>"
      ]
     },
     "execution_count": 3,
     "metadata": {},
     "output_type": "execute_result"
    },
    {
     "data": {
      "image/png": "[encoded data removed]",
      "text/plain": [
       "<Figure size 432x288 with 1 Axes>"
      ]
     },
     "metadata": {
      "needs_background": "light"
     },
     "output_type": "display_data"
    }
   ],
   "source": [
    "# 원본 데이터 확인\n",
    "plt.imshow(datax[0])"
   ]
  },
  {
   "cell_type": "code",
   "execution_count": 4,
   "metadata": {},
   "outputs": [
    {
     "name": "stdout",
     "output_type": "stream",
     "text": [
      "최대 : 1.0, 최소 : 0.0\n"
     ]
    }
   ],
   "source": [
    "datax_reshape = datax.reshape([60000, 28*28])\n",
    "datax_reshape_norm = datax_reshape/255\n",
    "print('최대 : {}, 최소 : {}'.format(np.max(datax_reshape_norm), np.min(datax_reshape_norm)))"
   ]
  },
  {
   "cell_type": "code",
   "execution_count": 5,
   "metadata": {},
   "outputs": [
    {
     "name": "stdout",
     "output_type": "stream",
     "text": [
      "[5 0 4 1 9 2 1 3 1 4]\n",
      "[[0. 0. 0. 0. 0. 1. 0. 0. 0. 0.]\n",
      " [1. 0. 0. 0. 0. 0. 0. 0. 0. 0.]\n",
      " [0. 0. 0. 0. 1. 0. 0. 0. 0. 0.]\n",
      " [0. 1. 0. 0. 0. 0. 0. 0. 0. 0.]\n",
      " [0. 0. 0. 0. 0. 0. 0. 0. 0. 1.]\n",
      " [0. 0. 1. 0. 0. 0. 0. 0. 0. 0.]\n",
      " [0. 1. 0. 0. 0. 0. 0. 0. 0. 0.]\n",
      " [0. 0. 0. 1. 0. 0. 0. 0. 0. 0.]\n",
      " [0. 1. 0. 0. 0. 0. 0. 0. 0. 0.]\n",
      " [0. 0. 0. 0. 1. 0. 0. 0. 0. 0.]]\n"
     ]
    }
   ],
   "source": [
    "datay_onehot = to_categorical(datay)\n",
    "print(datay[0:10])\n",
    "print(datay_onehot[0:10,:])"
   ]
  },
  {
   "cell_type": "code",
   "execution_count": 6,
   "metadata": {},
   "outputs": [],
   "source": [
    "from sklearn.model_selection import train_test_split\n",
    "trnx, tstx, trny, tsty = train_test_split(datax_reshape_norm, datay_onehot, test_size=0.3, random_state=111)"
   ]
  },
  {
   "cell_type": "markdown",
   "metadata": {},
   "source": [
    "## Keras로 Deep MLP 만들기\n",
    "## Sequential API"
   ]
  },
  {
   "cell_type": "code",
   "execution_count": 7,
   "metadata": {},
   "outputs": [],
   "source": [
    "input_shape = (784,)\n",
    "\n",
    "mlp_model = models.Sequential()\n",
    "mlp_model.add(layers.Dense(units = 1000, activation = 'relu', input_shape=input_shape))\n",
    "mlp_model.add(layers.Dense(units = 2000, activation = 'relu'))\n",
    "mlp_model.add(layers.Dense(units = 1000, activation = 'relu'))\n",
    "mlp_model.add(layers.Dense(units = 10, activation = 'softmax'))\n",
    "\n",
    "mlp_model.compile(optimizer='Adam', loss = 'categorical_crossentropy', metrics=['accuracy'])"
   ]
  },
  {
   "cell_type": "code",
   "execution_count": 8,
   "metadata": {},
   "outputs": [
    {
     "name": "stdout",
     "output_type": "stream",
     "text": [
      "Model: \"sequential\"\n",
      "_________________________________________________________________\n",
      "Layer (type)                 Output Shape              Param #   \n",
      "=================================================================\n",
      "dense (Dense)                (None, 1000)              785000    \n",
      "_________________________________________________________________\n",
      "dense_1 (Dense)              (None, 2000)              2002000   \n",
      "_________________________________________________________________\n",
      "dense_2 (Dense)              (None, 1000)              2001000   \n",
      "_________________________________________________________________\n",
      "dense_3 (Dense)              (None, 10)                10010     \n",
      "=================================================================\n",
      "Total params: 4,798,010\n",
      "Trainable params: 4,798,010\n",
      "Non-trainable params: 0\n",
      "_________________________________________________________________\n"
     ]
    }
   ],
   "source": [
    "mlp_model.summary()"
   ]
  },
  {
   "cell_type": "code",
   "execution_count": 9,
   "metadata": {
    "scrolled": true
   },
   "outputs": [
    {
     "name": "stdout",
     "output_type": "stream",
     "text": [
      "Train on 42000 samples, validate on 18000 samples\n",
      "Epoch 1/50\n",
      "42000/42000 [==============================] - 1s 30us/sample - loss: 0.2977 - accuracy: 0.9069 - val_loss: 0.1512 - val_accuracy: 0.9554\n",
      "Epoch 2/50\n",
      "42000/42000 [==============================] - 1s 16us/sample - loss: 0.0954 - accuracy: 0.9693 - val_loss: 0.1154 - val_accuracy: 0.9659\n",
      "Epoch 3/50\n",
      "42000/42000 [==============================] - 1s 16us/sample - loss: 0.0592 - accuracy: 0.9805 - val_loss: 0.0943 - val_accuracy: 0.9714\n",
      "Epoch 4/50\n",
      "42000/42000 [==============================] - 1s 15us/sample - loss: 0.0322 - accuracy: 0.9903 - val_loss: 0.0744 - val_accuracy: 0.9778\n",
      "Epoch 5/50\n",
      "42000/42000 [==============================] - 1s 16us/sample - loss: 0.0209 - accuracy: 0.9937 - val_loss: 0.0976 - val_accuracy: 0.9758\n",
      "Epoch 6/50\n",
      "42000/42000 [==============================] - 1s 15us/sample - loss: 0.0176 - accuracy: 0.9939 - val_loss: 0.1036 - val_accuracy: 0.9750\n",
      "Epoch 7/50\n",
      "42000/42000 [==============================] - 1s 16us/sample - loss: 0.0221 - accuracy: 0.9928 - val_loss: 0.0945 - val_accuracy: 0.9777\n",
      "Epoch 8/50\n",
      "42000/42000 [==============================] - 1s 16us/sample - loss: 0.0143 - accuracy: 0.9950 - val_loss: 0.1068 - val_accuracy: 0.9756\n",
      "Epoch 9/50\n",
      "42000/42000 [==============================] - 1s 16us/sample - loss: 0.0120 - accuracy: 0.9959 - val_loss: 0.1049 - val_accuracy: 0.9778\n",
      "Epoch 10/50\n",
      "42000/42000 [==============================] - 1s 17us/sample - loss: 0.0139 - accuracy: 0.9951 - val_loss: 0.1158 - val_accuracy: 0.9732\n",
      "Epoch 11/50\n",
      "42000/42000 [==============================] - 1s 17us/sample - loss: 0.0121 - accuracy: 0.9960 - val_loss: 0.0982 - val_accuracy: 0.9774\n",
      "Epoch 12/50\n",
      "42000/42000 [==============================] - 1s 16us/sample - loss: 0.0090 - accuracy: 0.9969 - val_loss: 0.1116 - val_accuracy: 0.9775\n",
      "Epoch 13/50\n",
      "42000/42000 [==============================] - 1s 16us/sample - loss: 0.0107 - accuracy: 0.9964 - val_loss: 0.1106 - val_accuracy: 0.9784\n",
      "Epoch 14/50\n",
      "42000/42000 [==============================] - 1s 16us/sample - loss: 0.0134 - accuracy: 0.9955 - val_loss: 0.1481 - val_accuracy: 0.9693\n",
      "Epoch 15/50\n",
      "42000/42000 [==============================] - 1s 16us/sample - loss: 0.0249 - accuracy: 0.9922 - val_loss: 0.1029 - val_accuracy: 0.9774\n",
      "Epoch 16/50\n",
      "42000/42000 [==============================] - 1s 16us/sample - loss: 0.0056 - accuracy: 0.9984 - val_loss: 0.1019 - val_accuracy: 0.9804\n",
      "Epoch 17/50\n",
      "42000/42000 [==============================] - 1s 15us/sample - loss: 0.0038 - accuracy: 0.9988 - val_loss: 0.1121 - val_accuracy: 0.9808\n",
      "Epoch 18/50\n",
      "42000/42000 [==============================] - 1s 16us/sample - loss: 0.0047 - accuracy: 0.9987 - val_loss: 0.1118 - val_accuracy: 0.9798\n",
      "Epoch 19/50\n",
      "42000/42000 [==============================] - ETA: 0s - loss: 0.0077 - accuracy: 0.99 - 1s 16us/sample - loss: 0.0076 - accuracy: 0.9977 - val_loss: 0.1392 - val_accuracy: 0.9754\n",
      "Epoch 20/50\n",
      "42000/42000 [==============================] - 1s 16us/sample - loss: 0.0086 - accuracy: 0.9975 - val_loss: 0.1011 - val_accuracy: 0.9811\n",
      "Epoch 21/50\n",
      "42000/42000 [==============================] - 1s 17us/sample - loss: 0.0018 - accuracy: 0.9995 - val_loss: 0.1130 - val_accuracy: 0.9807\n",
      "Epoch 22/50\n",
      "42000/42000 [==============================] - 1s 17us/sample - loss: 0.0054 - accuracy: 0.9984 - val_loss: 0.1243 - val_accuracy: 0.9779\n",
      "Epoch 23/50\n",
      "42000/42000 [==============================] - 1s 16us/sample - loss: 0.0140 - accuracy: 0.9962 - val_loss: 0.1152 - val_accuracy: 0.9773\n",
      "Epoch 24/50\n",
      "42000/42000 [==============================] - 1s 17us/sample - loss: 0.0103 - accuracy: 0.9969 - val_loss: 0.1129 - val_accuracy: 0.9771\n",
      "Epoch 25/50\n",
      "42000/42000 [==============================] - 1s 17us/sample - loss: 0.0037 - accuracy: 0.9990 - val_loss: 0.1126 - val_accuracy: 0.9800\n",
      "Epoch 26/50\n",
      "42000/42000 [==============================] - 1s 17us/sample - loss: 0.0024 - accuracy: 0.9992 - val_loss: 0.1586 - val_accuracy: 0.9742\n",
      "Epoch 27/50\n",
      "42000/42000 [==============================] - 1s 16us/sample - loss: 0.0049 - accuracy: 0.9986 - val_loss: 0.1150 - val_accuracy: 0.9814\n",
      "Epoch 28/50\n",
      "42000/42000 [==============================] - 1s 15us/sample - loss: 0.0056 - accuracy: 0.9984 - val_loss: 0.1142 - val_accuracy: 0.9792\n",
      "Epoch 29/50\n",
      "42000/42000 [==============================] - 1s 16us/sample - loss: 0.0126 - accuracy: 0.9960 - val_loss: 0.1170 - val_accuracy: 0.9787\n",
      "Epoch 30/50\n",
      "42000/42000 [==============================] - 1s 16us/sample - loss: 0.0101 - accuracy: 0.9971 - val_loss: 0.1147 - val_accuracy: 0.9782\n",
      "Epoch 31/50\n",
      "42000/42000 [==============================] - 1s 15us/sample - loss: 0.0067 - accuracy: 0.9980 - val_loss: 0.1184 - val_accuracy: 0.9810\n",
      "Epoch 32/50\n",
      "42000/42000 [==============================] - 1s 16us/sample - loss: 0.0051 - accuracy: 0.9989 - val_loss: 0.1242 - val_accuracy: 0.9790\n",
      "Epoch 33/50\n",
      "42000/42000 [==============================] - 1s 15us/sample - loss: 0.0042 - accuracy: 0.9988 - val_loss: 0.1088 - val_accuracy: 0.9813\n",
      "Epoch 34/50\n",
      "42000/42000 [==============================] - 1s 15us/sample - loss: 0.0063 - accuracy: 0.9983 - val_loss: 0.1107 - val_accuracy: 0.9800\n",
      "Epoch 35/50\n",
      "42000/42000 [==============================] - 1s 15us/sample - loss: 0.0076 - accuracy: 0.9976 - val_loss: 0.1230 - val_accuracy: 0.9790\n",
      "Epoch 36/50\n",
      "42000/42000 [==============================] - 1s 16us/sample - loss: 0.0084 - accuracy: 0.9978 - val_loss: 0.1086 - val_accuracy: 0.9816\n",
      "Epoch 37/50\n",
      "42000/42000 [==============================] - 1s 16us/sample - loss: 0.0027 - accuracy: 0.9992 - val_loss: 0.1051 - val_accuracy: 0.9828\n",
      "Epoch 38/50\n",
      "42000/42000 [==============================] - 1s 17us/sample - loss: 0.0022 - accuracy: 0.9993 - val_loss: 0.1106 - val_accuracy: 0.9823\n",
      "Epoch 39/50\n",
      "42000/42000 [==============================] - 1s 17us/sample - loss: 0.0038 - accuracy: 0.9990 - val_loss: 0.1201 - val_accuracy: 0.9811\n",
      "Epoch 40/50\n",
      "42000/42000 [==============================] - 1s 16us/sample - loss: 0.0028 - accuracy: 0.9991 - val_loss: 0.1096 - val_accuracy: 0.9827\n",
      "Epoch 41/50\n",
      "42000/42000 [==============================] - 1s 15us/sample - loss: 0.0052 - accuracy: 0.9985 - val_loss: 0.1172 - val_accuracy: 0.9818\n",
      "Epoch 42/50\n",
      "42000/42000 [==============================] - 1s 16us/sample - loss: 0.0050 - accuracy: 0.9984 - val_loss: 0.1252 - val_accuracy: 0.9801\n",
      "Epoch 43/50\n",
      "42000/42000 [==============================] - 1s 16us/sample - loss: 0.0043 - accuracy: 0.9989 - val_loss: 0.1375 - val_accuracy: 0.9791\n",
      "Epoch 44/50\n",
      "42000/42000 [==============================] - 1s 15us/sample - loss: 0.0060 - accuracy: 0.9981 - val_loss: 0.1219 - val_accuracy: 0.9809\n",
      "Epoch 45/50\n",
      "42000/42000 [==============================] - 1s 16us/sample - loss: 0.0016 - accuracy: 0.9995 - val_loss: 0.1058 - val_accuracy: 0.9841\n",
      "Epoch 46/50\n",
      "42000/42000 [==============================] - 1s 16us/sample - loss: 0.0015 - accuracy: 0.9996 - val_loss: 0.1236 - val_accuracy: 0.9827\n",
      "Epoch 47/50\n",
      "42000/42000 [==============================] - 1s 16us/sample - loss: 0.0018 - accuracy: 0.9996 - val_loss: 0.1268 - val_accuracy: 0.9816\n",
      "Epoch 48/50\n",
      "42000/42000 [==============================] - 1s 16us/sample - loss: 0.0037 - accuracy: 0.9990 - val_loss: 0.1486 - val_accuracy: 0.9784\n",
      "Epoch 49/50\n",
      "42000/42000 [==============================] - 1s 16us/sample - loss: 0.0115 - accuracy: 0.9966 - val_loss: 0.1367 - val_accuracy: 0.9781\n",
      "Epoch 50/50\n",
      "42000/42000 [==============================] - 1s 16us/sample - loss: 0.0054 - accuracy: 0.9985 - val_loss: 0.1133 - val_accuracy: 0.9809\n"
     ]
    }
   ],
   "source": [
    "history = mlp_model.fit(trnx, trny, validation_data = [tstx, tsty], batch_size=512, epochs=50)"
   ]
  },
  {
   "cell_type": "code",
   "execution_count": 10,
   "metadata": {},
   "outputs": [
    {
     "data": {
      "image/png": "[encoded data removed]",
      "text/plain": [
       "<Figure size 432x288 with 1 Axes>"
      ]
     },
     "metadata": {
      "needs_background": "light"
     },
     "output_type": "display_data"
    },
    {
     "data": {
      "image/png": "[encoded data removed]",
      "text/plain": [
       "<Figure size 432x288 with 1 Axes>"
      ]
     },
     "metadata": {
      "needs_background": "light"
     },
     "output_type": "display_data"
    }
   ],
   "source": [
    "plt.plot(history.history['accuracy'])\n",
    "plt.plot(history.history['val_accuracy'])\n",
    "plt.title('model accuracy')\n",
    "plt.ylabel('accuracy')\n",
    "plt.xlabel('epoch')\n",
    "plt.legend(['train', 'test'], loc='upper left')\n",
    "plt.show()\n",
    "# summarize history for loss\n",
    "plt.plot(history.history['loss'])\n",
    "plt.plot(history.history['val_loss'])\n",
    "plt.title('model loss')\n",
    "plt.ylabel('loss')\n",
    "plt.xlabel('epoch')\n",
    "plt.legend(['train', 'test'], loc='upper left')\n",
    "plt.show()"
   ]
  },
  {
   "cell_type": "markdown",
   "metadata": {},
   "source": [
    "## Functional API 사용"
   ]
  },
  {
   "cell_type": "code",
   "execution_count": 11,
   "metadata": {},
   "outputs": [
    {
     "name": "stdout",
     "output_type": "stream",
     "text": [
      "Model: \"model\"\n",
      "_________________________________________________________________\n",
      "Layer (type)                 Output Shape              Param #   \n",
      "=================================================================\n",
      "input_1 (InputLayer)         [(None, 784)]             0         \n",
      "_________________________________________________________________\n",
      "dense_4 (Dense)              (None, 1000)              785000    \n",
      "_________________________________________________________________\n",
      "dense_5 (Dense)              (None, 2000)              2002000   \n",
      "_________________________________________________________________\n",
      "dense_6 (Dense)              (None, 1000)              2001000   \n",
      "_________________________________________________________________\n",
      "dense_7 (Dense)              (None, 10)                10010     \n",
      "=================================================================\n",
      "Total params: 4,798,010\n",
      "Trainable params: 4,798,010\n",
      "Non-trainable params: 0\n",
      "_________________________________________________________________\n"
     ]
    }
   ],
   "source": [
    "input_shape = (784,)\n",
    "\n",
    "visible = layers.Input(shape=input_shape)\n",
    "hidden1 = layers.Dense(1000, activation='relu')(visible)\n",
    "hidden2 = layers.Dense(2000, activation='relu')(hidden1)\n",
    "hidden3 = layers.Dense(1000, activation='relu')(hidden2)\n",
    "output = layers.Dense(10, activation='softmax')(hidden3)\n",
    "\n",
    "mlp_function = models.Model(visible, output)\n",
    "\n",
    "mlp_function.summary()"
   ]
  },
  {
   "cell_type": "code",
   "execution_count": 12,
   "metadata": {
    "scrolled": true
   },
   "outputs": [
    {
     "name": "stdout",
     "output_type": "stream",
     "text": [
      "Train on 42000 samples, validate on 18000 samples\n",
      "Epoch 1/50\n",
      "42000/42000 [==============================] - 1s 30us/sample - loss: 0.5068 - accuracy: 0.8555 - val_loss: 0.1973 - val_accuracy: 0.9383\n",
      "Epoch 2/50\n",
      "42000/42000 [==============================] - 1s 18us/sample - loss: 0.1450 - accuracy: 0.9555 - val_loss: 0.1784 - val_accuracy: 0.9519\n",
      "Epoch 3/50\n",
      "42000/42000 [==============================] - 1s 19us/sample - loss: 0.0863 - accuracy: 0.9740 - val_loss: 0.2602 - val_accuracy: 0.9390\n",
      "Epoch 4/50\n",
      "42000/42000 [==============================] - 1s 18us/sample - loss: 0.0586 - accuracy: 0.9824 - val_loss: 0.0828 - val_accuracy: 0.9763\n",
      "Epoch 5/50\n",
      "42000/42000 [==============================] - 1s 18us/sample - loss: 0.0409 - accuracy: 0.9870 - val_loss: 0.1430 - val_accuracy: 0.9649\n",
      "Epoch 6/50\n",
      "42000/42000 [==============================] - 1s 18us/sample - loss: 0.0425 - accuracy: 0.9884 - val_loss: 0.1082 - val_accuracy: 0.9759\n",
      "Epoch 7/50\n",
      "42000/42000 [==============================] - 1s 18us/sample - loss: 0.0338 - accuracy: 0.9909 - val_loss: 0.1012 - val_accuracy: 0.9769\n",
      "Epoch 8/50\n",
      "42000/42000 [==============================] - 1s 18us/sample - loss: 0.0199 - accuracy: 0.9938 - val_loss: 0.1231 - val_accuracy: 0.9765\n",
      "Epoch 9/50\n",
      "42000/42000 [==============================] - 1s 18us/sample - loss: 0.0231 - accuracy: 0.9936 - val_loss: 0.1130 - val_accuracy: 0.9799\n",
      "Epoch 10/50\n",
      "42000/42000 [==============================] - 1s 19us/sample - loss: 0.0204 - accuracy: 0.9950 - val_loss: 0.2196 - val_accuracy: 0.9614\n",
      "Epoch 11/50\n",
      "42000/42000 [==============================] - 1s 18us/sample - loss: 0.0154 - accuracy: 0.9957 - val_loss: 0.1189 - val_accuracy: 0.9815\n",
      "Epoch 12/50\n",
      "42000/42000 [==============================] - 1s 18us/sample - loss: 0.0193 - accuracy: 0.9957 - val_loss: 0.1301 - val_accuracy: 0.9797\n",
      "Epoch 13/50\n",
      "42000/42000 [==============================] - 1s 18us/sample - loss: 0.0130 - accuracy: 0.9969 - val_loss: 0.1300 - val_accuracy: 0.9797\n",
      "Epoch 14/50\n",
      "42000/42000 [==============================] - 1s 18us/sample - loss: 0.0202 - accuracy: 0.9955 - val_loss: 0.1153 - val_accuracy: 0.9812\n",
      "Epoch 15/50\n",
      "42000/42000 [==============================] - 1s 18us/sample - loss: 0.0112 - accuracy: 0.9969 - val_loss: 0.1552 - val_accuracy: 0.9782\n",
      "Epoch 16/50\n",
      "42000/42000 [==============================] - 1s 18us/sample - loss: 0.0128 - accuracy: 0.9965 - val_loss: 0.1301 - val_accuracy: 0.9817\n",
      "Epoch 17/50\n",
      "42000/42000 [==============================] - 1s 18us/sample - loss: 0.0115 - accuracy: 0.9967 - val_loss: 0.1528 - val_accuracy: 0.9805\n",
      "Epoch 18/50\n",
      "42000/42000 [==============================] - 1s 18us/sample - loss: 0.0112 - accuracy: 0.9974 - val_loss: 0.1737 - val_accuracy: 0.9778\n",
      "Epoch 19/50\n",
      "42000/42000 [==============================] - 1s 18us/sample - loss: 0.0151 - accuracy: 0.9972 - val_loss: 0.1673 - val_accuracy: 0.9792\n",
      "Epoch 20/50\n",
      "42000/42000 [==============================] - 1s 18us/sample - loss: 0.0085 - accuracy: 0.9979 - val_loss: 0.2391 - val_accuracy: 0.9751\n",
      "Epoch 21/50\n",
      "42000/42000 [==============================] - 1s 19us/sample - loss: 0.0111 - accuracy: 0.9980 - val_loss: 0.1813 - val_accuracy: 0.9812\n",
      "Epoch 22/50\n",
      "42000/42000 [==============================] - 1s 20us/sample - loss: 0.0111 - accuracy: 0.9975 - val_loss: 0.2186 - val_accuracy: 0.9762\n",
      "Epoch 23/50\n",
      "42000/42000 [==============================] - 1s 19us/sample - loss: 0.0097 - accuracy: 0.9978 - val_loss: 0.1788 - val_accuracy: 0.9813\n",
      "Epoch 24/50\n",
      "42000/42000 [==============================] - 1s 20us/sample - loss: 0.0080 - accuracy: 0.9984 - val_loss: 0.2538 - val_accuracy: 0.9752\n",
      "Epoch 25/50\n",
      "42000/42000 [==============================] - 1s 18us/sample - loss: 0.0163 - accuracy: 0.9972 - val_loss: 0.2272 - val_accuracy: 0.9766\n",
      "Epoch 26/50\n",
      "42000/42000 [==============================] - 1s 18us/sample - loss: 0.0082 - accuracy: 0.9981 - val_loss: 0.2132 - val_accuracy: 0.9809\n",
      "Epoch 27/50\n",
      "42000/42000 [==============================] - 1s 18us/sample - loss: 0.0075 - accuracy: 0.9984 - val_loss: 0.1725 - val_accuracy: 0.9831\n",
      "Epoch 28/50\n",
      "42000/42000 [==============================] - 1s 17us/sample - loss: 0.0084 - accuracy: 0.9983 - val_loss: 0.2725 - val_accuracy: 0.9761\n",
      "Epoch 29/50\n",
      "42000/42000 [==============================] - 1s 17us/sample - loss: 0.0108 - accuracy: 0.9977 - val_loss: 0.2067 - val_accuracy: 0.9813\n",
      "Epoch 30/50\n",
      "42000/42000 [==============================] - 1s 18us/sample - loss: 0.0094 - accuracy: 0.9983 - val_loss: 0.2136 - val_accuracy: 0.9803\n",
      "Epoch 31/50\n",
      "42000/42000 [==============================] - 1s 19us/sample - loss: 0.0098 - accuracy: 0.9980 - val_loss: 0.2057 - val_accuracy: 0.9816\n",
      "Epoch 32/50\n",
      "42000/42000 [==============================] - 1s 18us/sample - loss: 0.0098 - accuracy: 0.9987 - val_loss: 0.2873 - val_accuracy: 0.9749\n",
      "Epoch 33/50\n",
      "42000/42000 [==============================] - 1s 20us/sample - loss: 0.0089 - accuracy: 0.9981 - val_loss: 0.2099 - val_accuracy: 0.9807\n",
      "Epoch 34/50\n",
      "42000/42000 [==============================] - 1s 20us/sample - loss: 0.0055 - accuracy: 0.9986 - val_loss: 0.2439 - val_accuracy: 0.9774\n",
      "Epoch 35/50\n",
      "42000/42000 [==============================] - 1s 20us/sample - loss: 0.0113 - accuracy: 0.9978 - val_loss: 0.2431 - val_accuracy: 0.9785\n",
      "Epoch 36/50\n",
      "42000/42000 [==============================] - 1s 19us/sample - loss: 0.0067 - accuracy: 0.9991 - val_loss: 0.1925 - val_accuracy: 0.9824\n",
      "Epoch 37/50\n",
      "42000/42000 [==============================] - 1s 18us/sample - loss: 0.0072 - accuracy: 0.9986 - val_loss: 0.2232 - val_accuracy: 0.9798\n",
      "Epoch 38/50\n",
      "42000/42000 [==============================] - 1s 20us/sample - loss: 0.0079 - accuracy: 0.9986 - val_loss: 0.2577 - val_accuracy: 0.9792\n",
      "Epoch 39/50\n",
      "42000/42000 [==============================] - 1s 21us/sample - loss: 0.0074 - accuracy: 0.9986 - val_loss: 0.2782 - val_accuracy: 0.9779\n",
      "Epoch 40/50\n",
      "42000/42000 [==============================] - 1s 18us/sample - loss: 0.0072 - accuracy: 0.9988 - val_loss: 0.2460 - val_accuracy: 0.9811\n",
      "Epoch 41/50\n",
      "42000/42000 [==============================] - 1s 18us/sample - loss: 0.0065 - accuracy: 0.9987 - val_loss: 0.2626 - val_accuracy: 0.9799\n",
      "Epoch 42/50\n",
      "42000/42000 [==============================] - 1s 19us/sample - loss: 0.0056 - accuracy: 0.9993 - val_loss: 0.2295 - val_accuracy: 0.9818\n",
      "Epoch 43/50\n",
      "42000/42000 [==============================] - 1s 19us/sample - loss: 0.0082 - accuracy: 0.9985 - val_loss: 0.2374 - val_accuracy: 0.9824\n",
      "Epoch 44/50\n",
      "42000/42000 [==============================] - 1s 19us/sample - loss: 0.0058 - accuracy: 0.9989 - val_loss: 0.2348 - val_accuracy: 0.9819\n",
      "Epoch 45/50\n",
      "42000/42000 [==============================] - 1s 19us/sample - loss: 0.0048 - accuracy: 0.9990 - val_loss: 0.2693 - val_accuracy: 0.9787\n",
      "Epoch 46/50\n",
      "42000/42000 [==============================] - 1s 20us/sample - loss: 0.0073 - accuracy: 0.9988 - val_loss: 0.2339 - val_accuracy: 0.9812\n",
      "Epoch 47/50\n",
      "42000/42000 [==============================] - 1s 20us/sample - loss: 0.0030 - accuracy: 0.9994 - val_loss: 0.2569 - val_accuracy: 0.9823\n",
      "Epoch 48/50\n",
      "42000/42000 [==============================] - 1s 19us/sample - loss: 0.0059 - accuracy: 0.9989 - val_loss: 0.2937 - val_accuracy: 0.9813\n",
      "Epoch 49/50\n",
      "42000/42000 [==============================] - 1s 18us/sample - loss: 0.0056 - accuracy: 0.9988 - val_loss: 0.2667 - val_accuracy: 0.9820\n",
      "Epoch 50/50\n",
      "42000/42000 [==============================] - 1s 18us/sample - loss: 0.0084 - accuracy: 0.9986 - val_loss: 0.2798 - val_accuracy: 0.9814\n"
     ]
    }
   ],
   "source": [
    "mlp_function.compile(optimizer='RMSprop', loss = 'categorical_crossentropy', metrics=['accuracy'])\n",
    "history = mlp_function.fit(trnx, trny, validation_data = [tstx, tsty], batch_size=512, epochs=50)"
   ]
  },
  {
   "cell_type": "code",
   "execution_count": 13,
   "metadata": {},
   "outputs": [
    {
     "data": {
      "image/png": "[encoded data removed]",
      "text/plain": [
       "<Figure size 432x288 with 1 Axes>"
      ]
     },
     "metadata": {
      "needs_background": "light"
     },
     "output_type": "display_data"
    },
    {
     "data": {
      "image/png": "[encoded data removed]",
      "text/plain": [
       "<Figure size 432x288 with 1 Axes>"
      ]
     },
     "metadata": {
      "needs_background": "light"
     },
     "output_type": "display_data"
    }
   ],
   "source": [
    "plt.plot(history.history['accuracy'])\n",
    "plt.plot(history.history['val_accuracy'])\n",
    "plt.title('model accuracy')\n",
    "plt.ylabel('accuracy')\n",
    "plt.xlabel('epoch')\n",
    "plt.legend(['train', 'test'], loc='upper left')\n",
    "plt.show()\n",
    "# summarize history for loss\n",
    "plt.plot(history.history['loss'])\n",
    "plt.plot(history.history['val_loss'])\n",
    "plt.title('model loss')\n",
    "plt.ylabel('loss')\n",
    "plt.xlabel('epoch')\n",
    "plt.legend(['train', 'test'], loc='upper left')\n",
    "plt.show()"
   ]
  },
  {
   "cell_type": "markdown",
   "metadata": {},
   "source": [
    "## Keras로 CNN 만들기\n",
    "## Sequential API"
   ]
  },
  {
   "cell_type": "code",
   "execution_count": 14,
   "metadata": {},
   "outputs": [],
   "source": [
    "input_shape = (28,28,1)\n",
    "\n",
    "cnn_model = models.Sequential()\n",
    "\n",
    "cnn_model.add(layers.Conv2D(16, (2,2), padding='same', input_shape=input_shape))\n",
    "cnn_model.add(layers.BatchNormalization())\n",
    "cnn_model.add(layers.Activation(\"relu\"))\n",
    "cnn_model.add(layers.MaxPooling2D((2,2)))\n",
    "\n",
    "cnn_model.add(layers.Conv2D(32, (2,2), padding='same'))\n",
    "cnn_model.add(layers.BatchNormalization())\n",
    "cnn_model.add(layers.Activation(\"relu\"))\n",
    "cnn_model.add(layers.Dropout(0.2))\n",
    "cnn_model.add(layers.MaxPooling2D((2,2)))\n",
    "\n",
    "cnn_model.add(layers.Flatten())\n",
    "\n",
    "cnn_model.add(layers.Dense(units = 128, activation = \"relu\"))\n",
    "cnn_model.add(layers.Dense(units = 10, activation =  \"softmax\"))\n",
    "\n",
    "cnn_model.compile(optimizer='Adam', loss = 'categorical_crossentropy', metrics=['accuracy'])"
   ]
  },
  {
   "cell_type": "code",
   "execution_count": 15,
   "metadata": {},
   "outputs": [
    {
     "name": "stdout",
     "output_type": "stream",
     "text": [
      "Model: \"sequential_1\"\n",
      "_________________________________________________________________\n",
      "Layer (type)                 Output Shape              Param #   \n",
      "=================================================================\n",
      "conv2d (Conv2D)              (None, 28, 28, 16)        80        \n",
      "_________________________________________________________________\n",
      "batch_normalization (BatchNo (None, 28, 28, 16)        64        \n",
      "_________________________________________________________________\n",
      "activation (Activation)      (None, 28, 28, 16)        0         \n",
      "_________________________________________________________________\n",
      "max_pooling2d (MaxPooling2D) (None, 14, 14, 16)        0         \n",
      "_________________________________________________________________\n",
      "conv2d_1 (Conv2D)            (None, 14, 14, 32)        2080      \n",
      "_________________________________________________________________\n",
      "batch_normalization_1 (Batch (None, 14, 14, 32)        128       \n",
      "_________________________________________________________________\n",
      "activation_1 (Activation)    (None, 14, 14, 32)        0         \n",
      "_________________________________________________________________\n",
      "dropout (Dropout)            (None, 14, 14, 32)        0         \n",
      "_________________________________________________________________\n",
      "max_pooling2d_1 (MaxPooling2 (None, 7, 7, 32)          0         \n",
      "_________________________________________________________________\n",
      "flatten (Flatten)            (None, 1568)              0         \n",
      "_________________________________________________________________\n",
      "dense_8 (Dense)              (None, 128)               200832    \n",
      "_________________________________________________________________\n",
      "dense_9 (Dense)              (None, 10)                1290      \n",
      "=================================================================\n",
      "Total params: 204,474\n",
      "Trainable params: 204,378\n",
      "Non-trainable params: 96\n",
      "_________________________________________________________________\n"
     ]
    }
   ],
   "source": [
    "cnn_model.summary()"
   ]
  },
  {
   "cell_type": "code",
   "execution_count": 16,
   "metadata": {},
   "outputs": [
    {
     "name": "stdout",
     "output_type": "stream",
     "text": [
      "(42000, 28, 28, 1)\n"
     ]
    }
   ],
   "source": [
    "trnx_reshape = trnx.reshape(-1,28,28,1)\n",
    "tstx_reshape = tstx.reshape(-1,28,28,1)\n",
    "print(trnx_reshape.shape)"
   ]
  },
  {
   "cell_type": "code",
   "execution_count": 17,
   "metadata": {
    "scrolled": true
   },
   "outputs": [
    {
     "name": "stdout",
     "output_type": "stream",
     "text": [
      "Train on 42000 samples, validate on 18000 samples\n",
      "Epoch 1/50\n",
      "42000/42000 [==============================] - 2s 57us/sample - loss: 0.5062 - accuracy: 0.8592 - val_loss: 1.9072 - val_accuracy: 0.3786\n",
      "Epoch 2/50\n",
      "42000/42000 [==============================] - 1s 23us/sample - loss: 0.1210 - accuracy: 0.9640 - val_loss: 1.8617 - val_accuracy: 0.3454\n",
      "Epoch 3/50\n",
      "42000/42000 [==============================] - 1s 23us/sample - loss: 0.0876 - accuracy: 0.9729 - val_loss: 1.3375 - val_accuracy: 0.5349\n",
      "Epoch 4/50\n",
      "42000/42000 [==============================] - 1s 23us/sample - loss: 0.0688 - accuracy: 0.9788 - val_loss: 0.6570 - val_accuracy: 0.8152\n",
      "Epoch 5/50\n",
      "42000/42000 [==============================] - 1s 24us/sample - loss: 0.0569 - accuracy: 0.9825 - val_loss: 0.2481 - val_accuracy: 0.9379\n",
      "Epoch 6/50\n",
      "42000/42000 [==============================] - 1s 23us/sample - loss: 0.0530 - accuracy: 0.9833 - val_loss: 0.1047 - val_accuracy: 0.9731\n",
      "Epoch 7/50\n",
      "42000/42000 [==============================] - 1s 23us/sample - loss: 0.0430 - accuracy: 0.9868 - val_loss: 0.0708 - val_accuracy: 0.9804\n",
      "Epoch 8/50\n",
      "42000/42000 [==============================] - 1s 23us/sample - loss: 0.0333 - accuracy: 0.9894 - val_loss: 0.0612 - val_accuracy: 0.9816\n",
      "Epoch 9/50\n",
      "42000/42000 [==============================] - 1s 22us/sample - loss: 0.0298 - accuracy: 0.9904 - val_loss: 0.0621 - val_accuracy: 0.9808\n",
      "Epoch 10/50\n",
      "42000/42000 [==============================] - 1s 23us/sample - loss: 0.0246 - accuracy: 0.9924 - val_loss: 0.0468 - val_accuracy: 0.9867\n",
      "Epoch 11/50\n",
      "42000/42000 [==============================] - 1s 23us/sample - loss: 0.0226 - accuracy: 0.9929 - val_loss: 0.0480 - val_accuracy: 0.9866\n",
      "Epoch 12/50\n",
      "42000/42000 [==============================] - 1s 23us/sample - loss: 0.0231 - accuracy: 0.9927 - val_loss: 0.0409 - val_accuracy: 0.9888\n",
      "Epoch 13/50\n",
      "42000/42000 [==============================] - 1s 23us/sample - loss: 0.0190 - accuracy: 0.9939 - val_loss: 0.0424 - val_accuracy: 0.9877\n",
      "Epoch 14/50\n",
      "42000/42000 [==============================] - 1s 23us/sample - loss: 0.0190 - accuracy: 0.9937 - val_loss: 0.0533 - val_accuracy: 0.9838\n",
      "Epoch 15/50\n",
      "42000/42000 [==============================] - 1s 24us/sample - loss: 0.0206 - accuracy: 0.9930 - val_loss: 0.0415 - val_accuracy: 0.9882\n",
      "Epoch 16/50\n",
      "42000/42000 [==============================] - 1s 24us/sample - loss: 0.0134 - accuracy: 0.9956 - val_loss: 0.0460 - val_accuracy: 0.9866\n",
      "Epoch 17/50\n",
      "42000/42000 [==============================] - 1s 24us/sample - loss: 0.0106 - accuracy: 0.9967 - val_loss: 0.0408 - val_accuracy: 0.9886\n",
      "Epoch 18/50\n",
      "42000/42000 [==============================] - 1s 23us/sample - loss: 0.0095 - accuracy: 0.9971 - val_loss: 0.0394 - val_accuracy: 0.9891\n",
      "Epoch 19/50\n",
      "42000/42000 [==============================] - 1s 23us/sample - loss: 0.0094 - accuracy: 0.9971 - val_loss: 0.0420 - val_accuracy: 0.9895\n",
      "Epoch 20/50\n",
      "42000/42000 [==============================] - 1s 23us/sample - loss: 0.0116 - accuracy: 0.9959 - val_loss: 0.0487 - val_accuracy: 0.9869\n",
      "Epoch 21/50\n",
      "42000/42000 [==============================] - 1s 24us/sample - loss: 0.0084 - accuracy: 0.9976 - val_loss: 0.0415 - val_accuracy: 0.9891\n",
      "Epoch 22/50\n",
      "42000/42000 [==============================] - 1s 23us/sample - loss: 0.0070 - accuracy: 0.9979 - val_loss: 0.0454 - val_accuracy: 0.9877\n",
      "Epoch 23/50\n",
      "42000/42000 [==============================] - 1s 23us/sample - loss: 0.0071 - accuracy: 0.9982 - val_loss: 0.0399 - val_accuracy: 0.9894\n",
      "Epoch 24/50\n",
      "42000/42000 [==============================] - 1s 23us/sample - loss: 0.0053 - accuracy: 0.9986 - val_loss: 0.0391 - val_accuracy: 0.9898\n",
      "Epoch 25/50\n",
      "42000/42000 [==============================] - 1s 24us/sample - loss: 0.0052 - accuracy: 0.9985 - val_loss: 0.0406 - val_accuracy: 0.9897\n",
      "Epoch 26/50\n",
      "42000/42000 [==============================] - 1s 24us/sample - loss: 0.0063 - accuracy: 0.9982 - val_loss: 0.0464 - val_accuracy: 0.9882\n",
      "Epoch 27/50\n",
      "42000/42000 [==============================] - 1s 24us/sample - loss: 0.0049 - accuracy: 0.9987 - val_loss: 0.0424 - val_accuracy: 0.9887\n",
      "Epoch 28/50\n",
      "42000/42000 [==============================] - 1s 24us/sample - loss: 0.0058 - accuracy: 0.9982 - val_loss: 0.0464 - val_accuracy: 0.9872\n",
      "Epoch 29/50\n",
      "42000/42000 [==============================] - 1s 24us/sample - loss: 0.0057 - accuracy: 0.9982 - val_loss: 0.0418 - val_accuracy: 0.9896\n",
      "Epoch 30/50\n",
      "42000/42000 [==============================] - 1s 25us/sample - loss: 0.0053 - accuracy: 0.9983 - val_loss: 0.0469 - val_accuracy: 0.9881\n",
      "Epoch 31/50\n",
      "42000/42000 [==============================] - 1s 25us/sample - loss: 0.0063 - accuracy: 0.9978 - val_loss: 0.0559 - val_accuracy: 0.9859\n",
      "Epoch 32/50\n",
      "42000/42000 [==============================] - 1s 25us/sample - loss: 0.0062 - accuracy: 0.9981 - val_loss: 0.0485 - val_accuracy: 0.9878\n",
      "Epoch 33/50\n",
      "42000/42000 [==============================] - 1s 24us/sample - loss: 0.0069 - accuracy: 0.9977 - val_loss: 0.1141 - val_accuracy: 0.9724\n",
      "Epoch 34/50\n",
      "42000/42000 [==============================] - 1s 23us/sample - loss: 0.0334 - accuracy: 0.9905 - val_loss: 0.0675 - val_accuracy: 0.9836\n",
      "Epoch 35/50\n",
      "42000/42000 [==============================] - 1s 23us/sample - loss: 0.0067 - accuracy: 0.9977 - val_loss: 0.0462 - val_accuracy: 0.9888\n",
      "Epoch 36/50\n",
      "42000/42000 [==============================] - 1s 23us/sample - loss: 0.0043 - accuracy: 0.9988 - val_loss: 0.0439 - val_accuracy: 0.9895\n",
      "Epoch 37/50\n",
      "42000/42000 [==============================] - 1s 23us/sample - loss: 0.0044 - accuracy: 0.9984 - val_loss: 0.0483 - val_accuracy: 0.9891\n",
      "Epoch 38/50\n",
      "42000/42000 [==============================] - 1s 24us/sample - loss: 0.0031 - accuracy: 0.9990 - val_loss: 0.0422 - val_accuracy: 0.9900\n",
      "Epoch 39/50\n",
      "42000/42000 [==============================] - 1s 27us/sample - loss: 0.0022 - accuracy: 0.9995 - val_loss: 0.0444 - val_accuracy: 0.9903\n",
      "Epoch 40/50\n",
      "42000/42000 [==============================] - 1s 29us/sample - loss: 0.0018 - accuracy: 0.9996 - val_loss: 0.0429 - val_accuracy: 0.9909\n",
      "Epoch 41/50\n",
      "42000/42000 [==============================] - 1s 26us/sample - loss: 0.0020 - accuracy: 0.9996 - val_loss: 0.0436 - val_accuracy: 0.9904\n",
      "Epoch 42/50\n",
      "42000/42000 [==============================] - 1s 26us/sample - loss: 0.0022 - accuracy: 0.9992 - val_loss: 0.0427 - val_accuracy: 0.9904\n",
      "Epoch 43/50\n",
      "42000/42000 [==============================] - 1s 26us/sample - loss: 0.0023 - accuracy: 0.9995 - val_loss: 0.0456 - val_accuracy: 0.9899\n",
      "Epoch 44/50\n",
      "42000/42000 [==============================] - 1s 24us/sample - loss: 0.0019 - accuracy: 0.9995 - val_loss: 0.0437 - val_accuracy: 0.9904\n",
      "Epoch 45/50\n",
      "42000/42000 [==============================] - 1s 24us/sample - loss: 0.0032 - accuracy: 0.9990 - val_loss: 0.0503 - val_accuracy: 0.9888\n",
      "Epoch 46/50\n",
      "42000/42000 [==============================] - 1s 24us/sample - loss: 0.0022 - accuracy: 0.9993 - val_loss: 0.0510 - val_accuracy: 0.9898\n",
      "Epoch 47/50\n",
      "42000/42000 [==============================] - 1s 24us/sample - loss: 0.0016 - accuracy: 0.9996 - val_loss: 0.0479 - val_accuracy: 0.9902\n",
      "Epoch 48/50\n",
      "42000/42000 [==============================] - 1s 25us/sample - loss: 0.0024 - accuracy: 0.9994 - val_loss: 0.0474 - val_accuracy: 0.9894\n",
      "Epoch 49/50\n",
      "42000/42000 [==============================] - 1s 22us/sample - loss: 0.0037 - accuracy: 0.9987 - val_loss: 0.0515 - val_accuracy: 0.9882\n",
      "Epoch 50/50\n",
      "42000/42000 [==============================] - 1s 23us/sample - loss: 0.0039 - accuracy: 0.9986 - val_loss: 0.0530 - val_accuracy: 0.9888\n"
     ]
    }
   ],
   "source": [
    "history = cnn_model.fit(trnx_reshape, trny, validation_data = [tstx_reshape, tsty], batch_size=512, epochs=50)"
   ]
  },
  {
   "cell_type": "code",
   "execution_count": 18,
   "metadata": {},
   "outputs": [
    {
     "data": {
      "image/png": "[encoded data removed]",
      "text/plain": [
       "<Figure size 432x288 with 1 Axes>"
      ]
     },
     "metadata": {
      "needs_background": "light"
     },
     "output_type": "display_data"
    },
    {
     "data": {
      "image/png": "[encoded data removed]",
      "text/plain": [
       "<Figure size 432x288 with 1 Axes>"
      ]
     },
     "metadata": {
      "needs_background": "light"
     },
     "output_type": "display_data"
    }
   ],
   "source": [
    "plt.plot(history.history['accuracy'])\n",
    "plt.plot(history.history['val_accuracy'])\n",
    "plt.title('model accuracy')\n",
    "plt.ylabel('accuracy')\n",
    "plt.xlabel('epoch')\n",
    "plt.legend(['train', 'test'], loc='upper left')\n",
    "plt.show()\n",
    "# summarize history for loss\n",
    "plt.plot(history.history['loss'])\n",
    "plt.plot(history.history['val_loss'])\n",
    "plt.title('model loss')\n",
    "plt.ylabel('loss')\n",
    "plt.xlabel('epoch')\n",
    "plt.legend(['train', 'test'], loc='upper left')\n",
    "plt.show()"
   ]
  },
  {
   "cell_type": "markdown",
   "metadata": {},
   "source": [
    "## Functional API"
   ]
  },
  {
   "cell_type": "code",
   "execution_count": 19,
   "metadata": {},
   "outputs": [],
   "source": [
    "input_shape = (28,28,1)\n",
    "\n",
    "input_tensor = layers.Input(shape = input_shape)\n",
    "\n",
    "conv1_1 = layers.Conv2D(16, (2,2), padding='same')(input_tensor)\n",
    "conv1_2 = layers.BatchNormalization()(conv1_1)\n",
    "conv1_3 = layers.Activation(\"relu\")(conv1_2)\n",
    "conv1_4 = layers.MaxPooling2D((2,2))(conv1_3)\n",
    "\n",
    "conv2_1 = layers.Conv2D(32, (2,2), padding='same')(conv1_4)\n",
    "conv2_2 = layers.BatchNormalization()(conv2_1)\n",
    "conv2_3 = layers.Activation(\"relu\")(conv2_2)\n",
    "conv2_4 = layers.Dropout(0.2)(conv2_3)\n",
    "conv2_5 = layers.MaxPooling2D((2,2))(conv2_4)\n",
    "\n",
    "conv3_1 = layers.Conv2D(64, (2,2), padding='same')(conv2_5)\n",
    "conv3_2 = layers.BatchNormalization()(conv3_1)\n",
    "conv3_3 = layers.Activation(\"relu\")(conv3_2)\n",
    "conv3_4 = layers.Dropout(0.2)(conv3_3)\n",
    "\n",
    "flatted = layers.Flatten()(conv3_4)\n",
    "\n",
    "dense1 = layers.Dense(128, activation=\"relu\")(flatted)\n",
    "dense2 = layers.Dense(64, activation=\"relu\")(dense1)\n",
    "output_class = layers.Dense(10, activation=\"softmax\")(dense2)\n",
    "\n",
    "cnn_fmodel = models.Model(input_tensor, output_class)\n",
    "cnn_fmodel.compile(optimizer='Adam', loss = 'categorical_crossentropy', metrics=['accuracy'])"
   ]
  },
  {
   "cell_type": "code",
   "execution_count": 20,
   "metadata": {},
   "outputs": [
    {
     "name": "stdout",
     "output_type": "stream",
     "text": [
      "Model: \"model_1\"\n",
      "_________________________________________________________________\n",
      "Layer (type)                 Output Shape              Param #   \n",
      "=================================================================\n",
      "input_2 (InputLayer)         [(None, 28, 28, 1)]       0         \n",
      "_________________________________________________________________\n",
      "conv2d_2 (Conv2D)            (None, 28, 28, 16)        80        \n",
      "_________________________________________________________________\n",
      "batch_normalization_2 (Batch (None, 28, 28, 16)        64        \n",
      "_________________________________________________________________\n",
      "activation_2 (Activation)    (None, 28, 28, 16)        0         \n",
      "_________________________________________________________________\n",
      "max_pooling2d_2 (MaxPooling2 (None, 14, 14, 16)        0         \n",
      "_________________________________________________________________\n",
      "conv2d_3 (Conv2D)            (None, 14, 14, 32)        2080      \n",
      "_________________________________________________________________\n",
      "batch_normalization_3 (Batch (None, 14, 14, 32)        128       \n",
      "_________________________________________________________________\n",
      "activation_3 (Activation)    (None, 14, 14, 32)        0         \n",
      "_________________________________________________________________\n",
      "dropout_1 (Dropout)          (None, 14, 14, 32)        0         \n",
      "_________________________________________________________________\n",
      "max_pooling2d_3 (MaxPooling2 (None, 7, 7, 32)          0         \n",
      "_________________________________________________________________\n",
      "conv2d_4 (Conv2D)            (None, 7, 7, 64)          8256      \n",
      "_________________________________________________________________\n",
      "batch_normalization_4 (Batch (None, 7, 7, 64)          256       \n",
      "_________________________________________________________________\n",
      "activation_4 (Activation)    (None, 7, 7, 64)          0         \n",
      "_________________________________________________________________\n",
      "dropout_2 (Dropout)          (None, 7, 7, 64)          0         \n",
      "_________________________________________________________________\n",
      "flatten_1 (Flatten)          (None, 3136)              0         \n",
      "_________________________________________________________________\n",
      "dense_10 (Dense)             (None, 128)               401536    \n",
      "_________________________________________________________________\n",
      "dense_11 (Dense)             (None, 64)                8256      \n",
      "_________________________________________________________________\n",
      "dense_12 (Dense)             (None, 10)                650       \n",
      "=================================================================\n",
      "Total params: 421,306\n",
      "Trainable params: 421,082\n",
      "Non-trainable params: 224\n",
      "_________________________________________________________________\n"
     ]
    }
   ],
   "source": [
    "cnn_fmodel.summary()"
   ]
  },
  {
   "cell_type": "code",
   "execution_count": 21,
   "metadata": {
    "scrolled": true
   },
   "outputs": [
    {
     "name": "stdout",
     "output_type": "stream",
     "text": [
      "Train on 42000 samples, validate on 18000 samples\n",
      "Epoch 1/50\n",
      "42000/42000 [==============================] - 2s 50us/sample - loss: 0.3899 - accuracy: 0.8779 - val_loss: 3.8630 - val_accuracy: 0.1135\n",
      "Epoch 2/50\n",
      "42000/42000 [==============================] - 1s 27us/sample - loss: 0.0938 - accuracy: 0.9715 - val_loss: 5.0911 - val_accuracy: 0.1135\n",
      "Epoch 3/50\n",
      "42000/42000 [==============================] - 1s 29us/sample - loss: 0.0722 - accuracy: 0.9773 - val_loss: 4.4947 - val_accuracy: 0.1135\n",
      "Epoch 4/50\n",
      "42000/42000 [==============================] - 1s 28us/sample - loss: 0.0549 - accuracy: 0.9823 - val_loss: 2.3440 - val_accuracy: 0.2716\n",
      "Epoch 5/50\n",
      "42000/42000 [==============================] - 1s 27us/sample - loss: 0.0466 - accuracy: 0.9848 - val_loss: 1.2686 - val_accuracy: 0.5743\n",
      "Epoch 6/50\n",
      "42000/42000 [==============================] - 1s 27us/sample - loss: 0.0386 - accuracy: 0.9877 - val_loss: 0.3979 - val_accuracy: 0.8704\n",
      "Epoch 7/50\n",
      "42000/42000 [==============================] - 1s 27us/sample - loss: 0.0415 - accuracy: 0.9869 - val_loss: 0.0998 - val_accuracy: 0.9706\n",
      "Epoch 8/50\n",
      "42000/42000 [==============================] - 1s 27us/sample - loss: 0.0322 - accuracy: 0.9896 - val_loss: 0.0546 - val_accuracy: 0.9839\n",
      "Epoch 9/50\n",
      "42000/42000 [==============================] - 1s 27us/sample - loss: 0.0256 - accuracy: 0.9910 - val_loss: 0.0599 - val_accuracy: 0.9813\n",
      "Epoch 10/50\n",
      "42000/42000 [==============================] - 1s 28us/sample - loss: 0.0240 - accuracy: 0.9918 - val_loss: 0.0378 - val_accuracy: 0.9884\n",
      "Epoch 11/50\n",
      "42000/42000 [==============================] - 1s 28us/sample - loss: 0.0244 - accuracy: 0.9919 - val_loss: 0.0383 - val_accuracy: 0.9889\n",
      "Epoch 12/50\n",
      "42000/42000 [==============================] - 1s 28us/sample - loss: 0.0194 - accuracy: 0.9932 - val_loss: 0.0464 - val_accuracy: 0.9864\n",
      "Epoch 13/50\n",
      "42000/42000 [==============================] - 1s 27us/sample - loss: 0.0209 - accuracy: 0.9931 - val_loss: 0.0418 - val_accuracy: 0.9876\n",
      "Epoch 14/50\n",
      "42000/42000 [==============================] - 1s 27us/sample - loss: 0.0202 - accuracy: 0.9931 - val_loss: 0.0338 - val_accuracy: 0.9894\n",
      "Epoch 15/50\n",
      "42000/42000 [==============================] - 1s 27us/sample - loss: 0.0168 - accuracy: 0.9945 - val_loss: 0.0329 - val_accuracy: 0.9902\n",
      "Epoch 16/50\n",
      "42000/42000 [==============================] - 1s 27us/sample - loss: 0.0146 - accuracy: 0.9951 - val_loss: 0.0370 - val_accuracy: 0.9896\n",
      "Epoch 17/50\n",
      "42000/42000 [==============================] - 1s 27us/sample - loss: 0.0137 - accuracy: 0.9955 - val_loss: 0.0335 - val_accuracy: 0.9909\n",
      "Epoch 18/50\n",
      "42000/42000 [==============================] - 1s 27us/sample - loss: 0.0136 - accuracy: 0.9950 - val_loss: 0.0376 - val_accuracy: 0.9888\n",
      "Epoch 19/50\n",
      "42000/42000 [==============================] - 1s 28us/sample - loss: 0.0127 - accuracy: 0.9956 - val_loss: 0.0327 - val_accuracy: 0.9911\n",
      "Epoch 20/50\n",
      "42000/42000 [==============================] - 1s 28us/sample - loss: 0.0121 - accuracy: 0.9961 - val_loss: 0.0341 - val_accuracy: 0.9903\n",
      "Epoch 21/50\n",
      "42000/42000 [==============================] - 1s 28us/sample - loss: 0.0109 - accuracy: 0.9965 - val_loss: 0.0398 - val_accuracy: 0.9888\n",
      "Epoch 22/50\n",
      "42000/42000 [==============================] - 1s 27us/sample - loss: 0.0127 - accuracy: 0.9956 - val_loss: 0.0323 - val_accuracy: 0.9908\n",
      "Epoch 23/50\n",
      "42000/42000 [==============================] - 1s 27us/sample - loss: 0.0103 - accuracy: 0.9965 - val_loss: 0.0328 - val_accuracy: 0.9917\n",
      "Epoch 24/50\n",
      "42000/42000 [==============================] - 1s 27us/sample - loss: 0.0108 - accuracy: 0.9961 - val_loss: 0.0402 - val_accuracy: 0.9907\n",
      "Epoch 25/50\n",
      "42000/42000 [==============================] - 1s 27us/sample - loss: 0.0092 - accuracy: 0.9967 - val_loss: 0.0341 - val_accuracy: 0.9907\n",
      "Epoch 26/50\n",
      "42000/42000 [==============================] - 1s 28us/sample - loss: 0.0101 - accuracy: 0.9966 - val_loss: 0.0362 - val_accuracy: 0.9907\n",
      "Epoch 27/50\n",
      "42000/42000 [==============================] - 1s 28us/sample - loss: 0.0126 - accuracy: 0.9955 - val_loss: 0.0331 - val_accuracy: 0.9917\n",
      "Epoch 28/50\n",
      "42000/42000 [==============================] - 1s 29us/sample - loss: 0.0074 - accuracy: 0.9975 - val_loss: 0.0338 - val_accuracy: 0.9906\n",
      "Epoch 29/50\n",
      "42000/42000 [==============================] - 1s 28us/sample - loss: 0.0075 - accuracy: 0.9972 - val_loss: 0.0349 - val_accuracy: 0.9911\n",
      "Epoch 30/50\n",
      "42000/42000 [==============================] - 1s 29us/sample - loss: 0.0112 - accuracy: 0.9958 - val_loss: 0.0343 - val_accuracy: 0.9912\n",
      "Epoch 31/50\n",
      "42000/42000 [==============================] - 1s 28us/sample - loss: 0.0074 - accuracy: 0.9972 - val_loss: 0.0411 - val_accuracy: 0.9894\n",
      "Epoch 32/50\n",
      "42000/42000 [==============================] - 1s 29us/sample - loss: 0.0176 - accuracy: 0.9941 - val_loss: 0.0347 - val_accuracy: 0.9910\n",
      "Epoch 33/50\n",
      "42000/42000 [==============================] - 1s 28us/sample - loss: 0.0076 - accuracy: 0.9973 - val_loss: 0.0320 - val_accuracy: 0.9915\n",
      "Epoch 34/50\n",
      "42000/42000 [==============================] - 1s 29us/sample - loss: 0.0076 - accuracy: 0.9971 - val_loss: 0.0374 - val_accuracy: 0.9894\n",
      "Epoch 35/50\n",
      "42000/42000 [==============================] - 1s 28us/sample - loss: 0.0072 - accuracy: 0.9976 - val_loss: 0.0329 - val_accuracy: 0.9914\n",
      "Epoch 36/50\n",
      "42000/42000 [==============================] - 1s 29us/sample - loss: 0.0051 - accuracy: 0.9982 - val_loss: 0.0325 - val_accuracy: 0.9922\n",
      "Epoch 37/50\n",
      "42000/42000 [==============================] - 1s 31us/sample - loss: 0.0042 - accuracy: 0.9984 - val_loss: 0.0434 - val_accuracy: 0.9893\n",
      "Epoch 38/50\n",
      "42000/42000 [==============================] - 1s 27us/sample - loss: 0.0203 - accuracy: 0.9936 - val_loss: 0.0345 - val_accuracy: 0.9907\n",
      "Epoch 39/50\n",
      "42000/42000 [==============================] - 1s 27us/sample - loss: 0.0076 - accuracy: 0.9973 - val_loss: 0.0419 - val_accuracy: 0.9898\n",
      "Epoch 40/50\n",
      "42000/42000 [==============================] - 1s 27us/sample - loss: 0.0071 - accuracy: 0.9974 - val_loss: 0.0379 - val_accuracy: 0.9902\n",
      "Epoch 41/50\n",
      "42000/42000 [==============================] - 1s 27us/sample - loss: 0.0060 - accuracy: 0.9980 - val_loss: 0.0302 - val_accuracy: 0.9923\n",
      "Epoch 42/50\n",
      "42000/42000 [==============================] - 1s 27us/sample - loss: 0.0053 - accuracy: 0.9983 - val_loss: 0.0357 - val_accuracy: 0.9918\n",
      "Epoch 43/50\n",
      "42000/42000 [==============================] - 1s 28us/sample - loss: 0.0044 - accuracy: 0.9983 - val_loss: 0.0310 - val_accuracy: 0.9920\n",
      "Epoch 44/50\n",
      "42000/42000 [==============================] - 1s 28us/sample - loss: 0.0044 - accuracy: 0.9985 - val_loss: 0.0322 - val_accuracy: 0.9924\n",
      "Epoch 45/50\n",
      "42000/42000 [==============================] - 1s 28us/sample - loss: 0.0042 - accuracy: 0.9985 - val_loss: 0.0328 - val_accuracy: 0.9925\n",
      "Epoch 46/50\n",
      "42000/42000 [==============================] - 1s 27us/sample - loss: 0.0049 - accuracy: 0.9982 - val_loss: 0.0317 - val_accuracy: 0.9926\n",
      "Epoch 47/50\n",
      "42000/42000 [==============================] - 1s 27us/sample - loss: 0.0027 - accuracy: 0.9991 - val_loss: 0.0347 - val_accuracy: 0.9911\n",
      "Epoch 48/50\n",
      "42000/42000 [==============================] - 1s 27us/sample - loss: 0.0045 - accuracy: 0.9986 - val_loss: 0.0571 - val_accuracy: 0.9876\n",
      "Epoch 49/50\n",
      "42000/42000 [==============================] - 1s 27us/sample - loss: 0.0233 - accuracy: 0.9925 - val_loss: 0.0334 - val_accuracy: 0.9922\n",
      "Epoch 50/50\n",
      "42000/42000 [==============================] - 1s 28us/sample - loss: 0.0066 - accuracy: 0.9977 - val_loss: 0.0326 - val_accuracy: 0.9929\n"
     ]
    }
   ],
   "source": [
    "history = cnn_fmodel.fit(trnx_reshape, trny, validation_data = [tstx_reshape, tsty], batch_size=512, epochs=50)"
   ]
  },
  {
   "cell_type": "code",
   "execution_count": 22,
   "metadata": {},
   "outputs": [
    {
     "data": {
      "image/png": "[encoded data removed]",
      "text/plain": [
       "<Figure size 432x288 with 1 Axes>"
      ]
     },
     "metadata": {
      "needs_background": "light"
     },
     "output_type": "display_data"
    },
    {
     "data": {
      "image/png": "[encoded data removed]",
      "text/plain": [
       "<Figure size 432x288 with 1 Axes>"
      ]
     },
     "metadata": {
      "needs_background": "light"
     },
     "output_type": "display_data"
    }
   ],
   "source": [
    "plt.plot(history.history['accuracy'])\n",
    "plt.plot(history.history['val_accuracy'])\n",
    "plt.title('model accuracy')\n",
    "plt.ylabel('accuracy')\n",
    "plt.xlabel('epoch')\n",
    "plt.legend(['train', 'test'], loc='upper left')\n",
    "plt.show()\n",
    "# summarize history for loss\n",
    "plt.plot(history.history['loss'])\n",
    "plt.plot(history.history['val_loss'])\n",
    "plt.title('model loss')\n",
    "plt.ylabel('loss')\n",
    "plt.xlabel('epoch')\n",
    "plt.legend(['train', 'test'], loc='upper left')\n",
    "plt.show()"
   ]
  },
  {
   "cell_type": "code",
   "execution_count": null,
   "metadata": {},
   "outputs": [],
   "source": []
  }
 ],
 "metadata": {
  "kernelspec": {
   "display_name": "Python 3",
   "language": "python",
   "name": "python3"
  },
  "language_info": {
   "codemirror_mode": {
    "name": "ipython",
    "version": 3
   },
   "file_extension": ".py",
   "mimetype": "text/x-python",
   "name": "python",
   "nbconvert_exporter": "python",
   "pygments_lexer": "ipython3",
   "version": "3.7.7"
  }
 },
 "nbformat": 4,
 "nbformat_minor": 2
}
