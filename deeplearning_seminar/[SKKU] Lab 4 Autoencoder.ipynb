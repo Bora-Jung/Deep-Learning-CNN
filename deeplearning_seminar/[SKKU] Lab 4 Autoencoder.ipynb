{
 "cells": [
  {
   "cell_type": "code",
   "execution_count": 1,
   "metadata": {},
   "outputs": [],
   "source": [
    "import numpy as np\n",
    "import pandas as pd\n",
    "import matplotlib.pyplot as plt\n",
    "%matplotlib inline\n",
    "\n",
    "from os.path import join\n",
    "\n",
    "import tensorflow as tf\n",
    "from tensorflow.keras import layers, models, optimizers\n",
    "from tensorflow.keras.utils import to_categorical"
   ]
  },
  {
   "cell_type": "code",
   "execution_count": 2,
   "metadata": {},
   "outputs": [],
   "source": [
    "datax = np.load(join('data','MNIST.npy'))\n",
    "datay = np.load(join('data','Label.npy'))"
   ]
  },
  {
   "cell_type": "code",
   "execution_count": 3,
   "metadata": {},
   "outputs": [
    {
     "name": "stdout",
     "output_type": "stream",
     "text": [
      "최대 : 1.0, 최소 : 0.0\n"
     ]
    }
   ],
   "source": [
    "datax_norm = datax/255\n",
    "print('최대 : {}, 최소 : {}'.format(np.max(datax_norm), np.min(datax_norm)))"
   ]
  },
  {
   "cell_type": "markdown",
   "metadata": {},
   "source": [
    "**MLP Autoencoder**"
   ]
  },
  {
   "cell_type": "code",
   "execution_count": 4,
   "metadata": {},
   "outputs": [],
   "source": [
    "datax_reshape = datax_norm.reshape([60000, 28*28])"
   ]
  },
  {
   "cell_type": "code",
   "execution_count": 5,
   "metadata": {},
   "outputs": [],
   "source": [
    "## Input\n",
    "input_shape = (28*28,)\n",
    "input_tensor = layers.Input(input_shape)\n",
    "\n",
    "## Encoder\n",
    "encoder1 = layers.Dense(500, activation='relu')(input_tensor)\n",
    "encoder2 = layers.Dense(300, activation='relu')(encoder1)\n",
    "encoder3 = layers.Dense(100, activation='relu')(encoder2)\n",
    "\n",
    "latent_tensor = encoder3\n",
    "\n",
    "## Decoder\n",
    "decoder1 = layers.Dense(300, activation='relu')(latent_tensor)\n",
    "decoder2 = layers.Dense(500, activation='relu')(decoder1)\n",
    "\n",
    "# Outputs\n",
    "reconstruction_output = layers.Dense(28*28, activation='relu')(decoder2)"
   ]
  },
  {
   "cell_type": "code",
   "execution_count": 6,
   "metadata": {},
   "outputs": [],
   "source": [
    "ae = models.Model(input_tensor, reconstruction_output)\n",
    "ae.compile(optimizer = 'Adam', loss = 'mse')"
   ]
  },
  {
   "cell_type": "code",
   "execution_count": 7,
   "metadata": {},
   "outputs": [
    {
     "name": "stdout",
     "output_type": "stream",
     "text": [
      "Model: \"model\"\n",
      "_________________________________________________________________\n",
      "Layer (type)                 Output Shape              Param #   \n",
      "=================================================================\n",
      "input_1 (InputLayer)         [(None, 784)]             0         \n",
      "_________________________________________________________________\n",
      "dense (Dense)                (None, 500)               392500    \n",
      "_________________________________________________________________\n",
      "dense_1 (Dense)              (None, 300)               150300    \n",
      "_________________________________________________________________\n",
      "dense_2 (Dense)              (None, 100)               30100     \n",
      "_________________________________________________________________\n",
      "dense_3 (Dense)              (None, 300)               30300     \n",
      "_________________________________________________________________\n",
      "dense_4 (Dense)              (None, 500)               150500    \n",
      "_________________________________________________________________\n",
      "dense_5 (Dense)              (None, 784)               392784    \n",
      "=================================================================\n",
      "Total params: 1,146,484\n",
      "Trainable params: 1,146,484\n",
      "Non-trainable params: 0\n",
      "_________________________________________________________________\n"
     ]
    }
   ],
   "source": [
    "ae.summary()"
   ]
  },
  {
   "cell_type": "code",
   "execution_count": 8,
   "metadata": {
    "scrolled": false
   },
   "outputs": [
    {
     "name": "stdout",
     "output_type": "stream",
     "text": [
      "Train on 60000 samples\n",
      "Epoch 1/10\n",
      "60000/60000 - 1s - loss: 0.0522\n",
      "Epoch 2/10\n",
      "60000/60000 - 0s - loss: 0.0221\n",
      "Epoch 3/10\n",
      "60000/60000 - 0s - loss: 0.0162\n",
      "Epoch 4/10\n",
      "60000/60000 - 0s - loss: 0.0140\n",
      "Epoch 5/10\n",
      "60000/60000 - 0s - loss: 0.0126\n",
      "Epoch 6/10\n",
      "60000/60000 - 0s - loss: 0.0115\n",
      "Epoch 7/10\n",
      "60000/60000 - 0s - loss: 0.0108\n",
      "Epoch 8/10\n",
      "60000/60000 - 0s - loss: 0.0104\n",
      "Epoch 9/10\n",
      "60000/60000 - 0s - loss: 0.0099\n",
      "Epoch 10/10\n",
      "60000/60000 - 0s - loss: 0.0095\n"
     ]
    },
    {
     "data": {
      "text/plain": [
       "<tensorflow.python.keras.callbacks.History at 0x1a1c191c248>"
      ]
     },
     "execution_count": 8,
     "metadata": {},
     "output_type": "execute_result"
    }
   ],
   "source": [
    "#parameter\n",
    "epoch=10\n",
    "batch_size=1024\n",
    "\n",
    "ae.fit(datax_reshape, datax_reshape,\n",
    "       batch_size = batch_size,\n",
    "       epochs=epoch,\n",
    "       verbose=2)"
   ]
  },
  {
   "cell_type": "code",
   "execution_count": 9,
   "metadata": {},
   "outputs": [
    {
     "data": {
      "text/plain": [
       "<matplotlib.image.AxesImage at 0x1a36b943908>"
      ]
     },
     "execution_count": 9,
     "metadata": {},
     "output_type": "execute_result"
    },
    {
     "data": {
      "image/png": "[encoded data removed]",
      "text/plain": [
       "<Figure size 432x288 with 1 Axes>"
      ]
     },
     "metadata": {
      "needs_background": "light"
     },
     "output_type": "display_data"
    }
   ],
   "source": [
    "# 원본 데이터 확인\n",
    "plt.imshow(datax_reshape[0].reshape(28,28))"
   ]
  },
  {
   "cell_type": "code",
   "execution_count": 10,
   "metadata": {},
   "outputs": [
    {
     "data": {
      "text/plain": [
       "(784,)"
      ]
     },
     "execution_count": 10,
     "metadata": {},
     "output_type": "execute_result"
    }
   ],
   "source": [
    "datax_reshape[0].shape"
   ]
  },
  {
   "cell_type": "code",
   "execution_count": 11,
   "metadata": {},
   "outputs": [
    {
     "data": {
      "text/plain": [
       "<matplotlib.image.AxesImage at 0x1a36bc2cac8>"
      ]
     },
     "execution_count": 11,
     "metadata": {},
     "output_type": "execute_result"
    },
    {
     "data": {
      "image/png": "[encoded data removed]",
      "text/plain": [
       "<Figure size 432x288 with 1 Axes>"
      ]
     },
     "metadata": {
      "needs_background": "light"
     },
     "output_type": "display_data"
    }
   ],
   "source": [
    "# 데이터를 모델에 넣고 복원시킵니다.\n",
    "decoded_img = ae.predict(datax_reshape[0].reshape(1,28*28))\n",
    "decoded_img = decoded_img.reshape(28,28)\n",
    "\n",
    "# 복원된 데이터 확인\n",
    "plt.imshow(decoded_img)"
   ]
  },
  {
   "cell_type": "code",
   "execution_count": 12,
   "metadata": {},
   "outputs": [
    {
     "data": {
      "text/plain": [
       "0.22460150942108378"
      ]
     },
     "execution_count": 12,
     "metadata": {},
     "output_type": "execute_result"
    }
   ],
   "source": [
    "np.mean(np.abs(datax_reshape[0] - decoded_img.reshape(784,1)))"
   ]
  },
  {
   "cell_type": "code",
   "execution_count": 13,
   "metadata": {},
   "outputs": [],
   "source": [
    "random_vector = np.random.rand(784,1)"
   ]
  },
  {
   "cell_type": "code",
   "execution_count": 14,
   "metadata": {
    "scrolled": true
   },
   "outputs": [
    {
     "data": {
      "text/plain": [
       "<matplotlib.image.AxesImage at 0x1a37290f088>"
      ]
     },
     "execution_count": 14,
     "metadata": {},
     "output_type": "execute_result"
    },
    {
     "data": {
      "image/png": "[encoded data removed]",
      "text/plain": [
       "<Figure size 432x288 with 1 Axes>"
      ]
     },
     "metadata": {
      "needs_background": "light"
     },
     "output_type": "display_data"
    }
   ],
   "source": [
    "# 데이터를 모델에 넣고 복원시킵니다.\n",
    "decoded_img = ae.predict(random_vector.reshape(1,28*28))\n",
    "decoded_img = decoded_img.reshape(28,28)\n",
    "\n",
    "# 복원된 데이터 확인\n",
    "plt.imshow(decoded_img)"
   ]
  },
  {
   "cell_type": "code",
   "execution_count": 15,
   "metadata": {},
   "outputs": [
    {
     "data": {
      "text/plain": [
       "0.4441315436595003"
      ]
     },
     "execution_count": 15,
     "metadata": {},
     "output_type": "execute_result"
    }
   ],
   "source": [
    "np.mean(np.abs(random_vector - decoded_img.reshape(784,1)))"
   ]
  },
  {
   "cell_type": "markdown",
   "metadata": {},
   "source": [
    "**CAE**"
   ]
  },
  {
   "cell_type": "code",
   "execution_count": 16,
   "metadata": {},
   "outputs": [
    {
     "name": "stdout",
     "output_type": "stream",
     "text": [
      "최대 : 1.0, 최소 : 0.0\n"
     ]
    }
   ],
   "source": [
    "datax_reshape = datax_norm.reshape((-1, 28, 28, 1))\n",
    "print('최대 : {}, 최소 : {}'.format(np.max(datax_norm), np.min(datax_norm)))"
   ]
  },
  {
   "cell_type": "code",
   "execution_count": 17,
   "metadata": {},
   "outputs": [],
   "source": [
    "## Input\n",
    "input_shape = (28, 28, 1)\n",
    "input_tensor = layers.Input(input_shape)\n",
    "\n",
    "## Encoder\n",
    "conv_1 = layers.Conv2D(1, (3,3), padding='same', activation='relu')(input_tensor)\n",
    "pooling_1 = layers.MaxPool2D(name='latent_layer')(conv_1)\n",
    "\n",
    "latent_tensor = pooling_1\n",
    "\n",
    "## Decoding\n",
    "deconv_2 = layers.Conv2DTranspose(1, (3,3), padding='same', activation='relu')(latent_tensor)\n",
    "upsample_3 = layers.UpSampling2D()(deconv_2)\n",
    "\n",
    "# Outputs\n",
    "output_tensor = layers.Conv2DTranspose(1, (3,3), padding='same', activation='sigmoid')(upsample_3)"
   ]
  },
  {
   "cell_type": "code",
   "execution_count": 18,
   "metadata": {},
   "outputs": [],
   "source": [
    "ae = models.Model(input_tensor, output_tensor)\n",
    "ae.compile(optimizer = 'Adam', loss = 'mse')"
   ]
  },
  {
   "cell_type": "code",
   "execution_count": 19,
   "metadata": {},
   "outputs": [
    {
     "name": "stdout",
     "output_type": "stream",
     "text": [
      "Model: \"model_1\"\n",
      "_________________________________________________________________\n",
      "Layer (type)                 Output Shape              Param #   \n",
      "=================================================================\n",
      "input_2 (InputLayer)         [(None, 28, 28, 1)]       0         \n",
      "_________________________________________________________________\n",
      "conv2d (Conv2D)              (None, 28, 28, 1)         10        \n",
      "_________________________________________________________________\n",
      "latent_layer (MaxPooling2D)  (None, 14, 14, 1)         0         \n",
      "_________________________________________________________________\n",
      "conv2d_transpose (Conv2DTran (None, 14, 14, 1)         10        \n",
      "_________________________________________________________________\n",
      "up_sampling2d (UpSampling2D) (None, 28, 28, 1)         0         \n",
      "_________________________________________________________________\n",
      "conv2d_transpose_1 (Conv2DTr (None, 28, 28, 1)         10        \n",
      "=================================================================\n",
      "Total params: 30\n",
      "Trainable params: 30\n",
      "Non-trainable params: 0\n",
      "_________________________________________________________________\n"
     ]
    }
   ],
   "source": [
    "ae.summary()"
   ]
  },
  {
   "cell_type": "code",
   "execution_count": 20,
   "metadata": {},
   "outputs": [
    {
     "name": "stdout",
     "output_type": "stream",
     "text": [
      "Train on 60000 samples\n",
      "Epoch 1/10\n",
      "60000/60000 - 2s - loss: 0.2291\n",
      "Epoch 2/10\n",
      "60000/60000 - 0s - loss: 0.2157\n",
      "Epoch 3/10\n",
      "60000/60000 - 0s - loss: 0.2032\n",
      "Epoch 4/10\n",
      "60000/60000 - 0s - loss: 0.1896\n",
      "Epoch 5/10\n",
      "60000/60000 - 0s - loss: 0.1737\n",
      "Epoch 6/10\n",
      "60000/60000 - 0s - loss: 0.1573\n",
      "Epoch 7/10\n",
      "60000/60000 - 0s - loss: 0.1455\n",
      "Epoch 8/10\n",
      "60000/60000 - 0s - loss: 0.1371\n",
      "Epoch 9/10\n",
      "60000/60000 - 0s - loss: 0.1302\n",
      "Epoch 10/10\n",
      "60000/60000 - 0s - loss: 0.1240\n"
     ]
    },
    {
     "data": {
      "text/plain": [
       "<tensorflow.python.keras.callbacks.History at 0x1a373f0d408>"
      ]
     },
     "execution_count": 20,
     "metadata": {},
     "output_type": "execute_result"
    }
   ],
   "source": [
    "#parameter\n",
    "epoch=10\n",
    "batch_size=1024\n",
    "\n",
    "ae.fit(datax_reshape, datax_reshape,\n",
    "       batch_size = batch_size,\n",
    "       epochs=epoch,\n",
    "       verbose=2)"
   ]
  },
  {
   "cell_type": "code",
   "execution_count": 21,
   "metadata": {},
   "outputs": [
    {
     "data": {
      "text/plain": [
       "<matplotlib.image.AxesImage at 0x1a19186c808>"
      ]
     },
     "execution_count": 21,
     "metadata": {},
     "output_type": "execute_result"
    },
    {
     "data": {
      "image/png": "[encoded data removed]",
      "text/plain": [
       "<Figure size 432x288 with 1 Axes>"
      ]
     },
     "metadata": {
      "needs_background": "light"
     },
     "output_type": "display_data"
    }
   ],
   "source": [
    "# 원본 데이터 확인\n",
    "plt.imshow(datax_reshape[10].reshape(28,28))"
   ]
  },
  {
   "cell_type": "code",
   "execution_count": 22,
   "metadata": {},
   "outputs": [
    {
     "data": {
      "text/plain": [
       "(28, 28, 1)"
      ]
     },
     "execution_count": 22,
     "metadata": {},
     "output_type": "execute_result"
    }
   ],
   "source": [
    "datax_reshape[10].shape"
   ]
  },
  {
   "cell_type": "code",
   "execution_count": 23,
   "metadata": {},
   "outputs": [
    {
     "data": {
      "text/plain": [
       "<matplotlib.image.AxesImage at 0x1a190025f08>"
      ]
     },
     "execution_count": 23,
     "metadata": {},
     "output_type": "execute_result"
    },
    {
     "data": {
      "image/png": "[encoded data removed]",
      "text/plain": [
       "<Figure size 432x288 with 1 Axes>"
      ]
     },
     "metadata": {
      "needs_background": "light"
     },
     "output_type": "display_data"
    }
   ],
   "source": [
    "# 데이터를 모델에 넣고 복원시킵니다.\n",
    "decoded_img = ae.predict(datax_reshape[10].reshape(1,28, 28,1))\n",
    "decoded_img = decoded_img.reshape(28,28)\n",
    "\n",
    "# 복원된 데이터 확인\n",
    "plt.imshow(decoded_img)"
   ]
  },
  {
   "cell_type": "code",
   "execution_count": 24,
   "metadata": {
    "scrolled": true
   },
   "outputs": [],
   "source": [
    "intermediate_layer_model = models.Model(inputs=ae.input,\n",
    "                                 outputs=ae.get_layer('latent_layer').output)\n",
    "intermediate_output = intermediate_layer_model.predict(datax_reshape[10].reshape(1,28, 28,1))"
   ]
  },
  {
   "cell_type": "code",
   "execution_count": 25,
   "metadata": {},
   "outputs": [],
   "source": [
    "latent_vector = np.array(intermediate_output)"
   ]
  },
  {
   "cell_type": "code",
   "execution_count": 26,
   "metadata": {
    "scrolled": true
   },
   "outputs": [
    {
     "data": {
      "text/plain": [
       "<matplotlib.image.AxesImage at 0x1a1901f6d88>"
      ]
     },
     "execution_count": 26,
     "metadata": {},
     "output_type": "execute_result"
    },
    {
     "data": {
      "image/png": "[encoded data removed]",
      "text/plain": [
       "<Figure size 432x288 with 1 Axes>"
      ]
     },
     "metadata": {
      "needs_background": "light"
     },
     "output_type": "display_data"
    }
   ],
   "source": [
    "plt.imshow(latent_vector.reshape(14,14))"
   ]
  }
 ],
 "metadata": {
  "kernelspec": {
   "display_name": "Python 3",
   "language": "python",
   "name": "python3"
  },
  "language_info": {
   "codemirror_mode": {
    "name": "ipython",
    "version": 3
   },
   "file_extension": ".py",
   "mimetype": "text/x-python",
   "name": "python",
   "nbconvert_exporter": "python",
   "pygments_lexer": "ipython3",
   "version": "3.7.7"
  }
 },
 "nbformat": 4,
 "nbformat_minor": 2
}
